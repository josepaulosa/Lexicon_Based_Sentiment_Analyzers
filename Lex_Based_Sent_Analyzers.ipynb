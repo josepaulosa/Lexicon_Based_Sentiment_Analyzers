{
  "nbformat": 4,
  "nbformat_minor": 0,
  "metadata": {
    "language_info": {
      "codemirror_mode": {
        "name": "ipython",
        "version": 3
      },
      "file_extension": ".py",
      "mimetype": "text/x-python",
      "name": "python",
      "nbconvert_exporter": "python",
      "pygments_lexer": "ipython3",
      "version": "3.6.9-final"
    },
    "orig_nbformat": 2,
    "kernelspec": {
      "name": "python3",
      "display_name": "Python 3.6.9 64-bit",
      "metadata": {
        "interpreter": {
          "hash": "31f2aee4e71d21fbe5cf8b01ff0e069b9275f58929596ceb00d14d90e3e16cd6"
        }
      }
    },
    "colab": {
      "name": "Copy of TextBlob.ipynb",
      "provenance": [],
      "collapsed_sections": []
    },
    "gpuClass": "standard"
  },
  "cells": [
    {
      "cell_type": "markdown",
      "metadata": {
        "id": "T_du22iY_i3w"
      },
      "source": [
        "## **Sentiment analysis** of the **restaurant reviews** from **YELP** dataset using two **lexicon-based sentiment analyzers**: **TextBlob** and **Vader**.\n",
        "- - - \n",
        "\n"
      ]
    },
    {
      "cell_type": "markdown",
      "source": [
        "### **TASKS**:\n",
        "- **PREPROCESSING** \n",
        "- **SENTIMENT ANALYSIS WITH `TEXTBLOB`**\n",
        "- **SENTIMENT ANALYSIS WITH `VADER`**\n",
        "- **CONCLUSIONS**\n",
        "- - - "
      ],
      "metadata": {
        "id": "UiFS7KLk-xpB"
      }
    },
    {
      "cell_type": "markdown",
      "source": [
        "#### The two datasets (**review** and **business**) that we need from **YELP** dataset can be found <a href=\"https://www.yelp.com/dataset\" target=\"_blank\">here</a>\n",
        "- - - "
      ],
      "metadata": {
        "id": "-Yx1tAVP-HLJ"
      }
    },
    {
      "cell_type": "markdown",
      "source": [
        "#### Let's install **vaderSentiment** and **langdetect** \n",
        "\n",
        "\n",
        "\n"
      ],
      "metadata": {
        "id": "nXpsqI2C67Hf"
      }
    },
    {
      "cell_type": "code",
      "source": [
        "!pip install vaderSentiment"
      ],
      "metadata": {
        "colab": {
          "base_uri": "https://localhost:8080/"
        },
        "id": "elYGWfMFsVrz",
        "outputId": "40039bd0-2960-4a5c-a775-72431caaa325"
      },
      "execution_count": null,
      "outputs": [
        {
          "output_type": "stream",
          "name": "stdout",
          "text": [
            "Looking in indexes: https://pypi.org/simple, https://us-python.pkg.dev/colab-wheels/public/simple/\n",
            "Collecting vaderSentiment\n",
            "  Downloading vaderSentiment-3.3.2-py2.py3-none-any.whl (125 kB)\n",
            "\u001b[K     |████████████████████████████████| 125 kB 32.6 MB/s \n",
            "\u001b[?25hRequirement already satisfied: requests in /usr/local/lib/python3.7/dist-packages (from vaderSentiment) (2.23.0)\n",
            "Requirement already satisfied: urllib3!=1.25.0,!=1.25.1,<1.26,>=1.21.1 in /usr/local/lib/python3.7/dist-packages (from requests->vaderSentiment) (1.24.3)\n",
            "Requirement already satisfied: idna<3,>=2.5 in /usr/local/lib/python3.7/dist-packages (from requests->vaderSentiment) (2.10)\n",
            "Requirement already satisfied: certifi>=2017.4.17 in /usr/local/lib/python3.7/dist-packages (from requests->vaderSentiment) (2022.6.15)\n",
            "Requirement already satisfied: chardet<4,>=3.0.2 in /usr/local/lib/python3.7/dist-packages (from requests->vaderSentiment) (3.0.4)\n",
            "Installing collected packages: vaderSentiment\n",
            "Successfully installed vaderSentiment-3.3.2\n"
          ]
        }
      ]
    },
    {
      "cell_type": "code",
      "source": [
        "!pip install langdetect"
      ],
      "metadata": {
        "colab": {
          "base_uri": "https://localhost:8080/"
        },
        "id": "2F_Kvvujs1vR",
        "outputId": "ebf6666f-6d1a-43bb-c7c0-e688fb4025db"
      },
      "execution_count": null,
      "outputs": [
        {
          "output_type": "stream",
          "name": "stdout",
          "text": [
            "Looking in indexes: https://pypi.org/simple, https://us-python.pkg.dev/colab-wheels/public/simple/\n",
            "Collecting langdetect\n",
            "  Downloading langdetect-1.0.9.tar.gz (981 kB)\n",
            "\u001b[K     |████████████████████████████████| 981 kB 35.9 MB/s \n",
            "\u001b[?25hRequirement already satisfied: six in /usr/local/lib/python3.7/dist-packages (from langdetect) (1.15.0)\n",
            "Building wheels for collected packages: langdetect\n",
            "  Building wheel for langdetect (setup.py) ... \u001b[?25l\u001b[?25hdone\n",
            "  Created wheel for langdetect: filename=langdetect-1.0.9-py3-none-any.whl size=993242 sha256=e29a4e72bd5b05fcaa08c3fc4aef2b260b90c7f00dbe3139ad5ffa222bce20d6\n",
            "  Stored in directory: /root/.cache/pip/wheels/c5/96/8a/f90c59ed25d75e50a8c10a1b1c2d4c402e4dacfa87f3aff36a\n",
            "Successfully built langdetect\n",
            "Installing collected packages: langdetect\n",
            "Successfully installed langdetect-1.0.9\n"
          ]
        }
      ]
    },
    {
      "cell_type": "markdown",
      "metadata": {
        "id": "bwoJKCWp__xf"
      },
      "source": [
        "#### **Importing required libraries** "
      ]
    },
    {
      "cell_type": "code",
      "metadata": {
        "id": "Ogxuogt_AEyV",
        "colab": {
          "base_uri": "https://localhost:8080/"
        },
        "outputId": "94e87bac-a8a6-4b95-dff7-a749a56e3952"
      },
      "source": [
        "import pandas as pd\n",
        "import numpy as np\n",
        "import seaborn as sns\n",
        "import matplotlib.pyplot as plt\n",
        "import re\n",
        "import spacy\n",
        "sp = spacy.load('en_core_web_sm')\n",
        "import nltk\n",
        "nltk.download('punkt')\n",
        "from nltk.tokenize import word_tokenize\n",
        "from textblob import TextBlob\n",
        "from vaderSentiment.vaderSentiment import SentimentIntensityAnalyzer\n",
        "from sklearn import metrics\n",
        "from sklearn.metrics import accuracy_score,f1_score,precision_score, recall_score, confusion_matrix, classification_report\n",
        "from collections import Counter\n",
        "import tensorflow as tf\n",
        "import sys, os, warnings\n",
        "if not sys.warnoptions:\n",
        "    warnings.simplefilter(\"ignore\")\n",
        "    os.environ[\"PYTHONWARNINGS\"] = \"ignore\" "
      ],
      "execution_count": null,
      "outputs": [
        {
          "output_type": "stream",
          "name": "stderr",
          "text": [
            "[nltk_data] Downloading package punkt to /root/nltk_data...\n",
            "[nltk_data]   Unzipping tokenizers/punkt.zip.\n"
          ]
        }
      ]
    },
    {
      "cell_type": "code",
      "source": [
        "from google.colab import drive \n",
        "drive.mount('/content/drive')"
      ],
      "metadata": {
        "colab": {
          "base_uri": "https://localhost:8080/"
        },
        "id": "z1ZSB5JKpGsY",
        "outputId": "c776da17-a719-47d0-c137-e23ea45db558"
      },
      "execution_count": null,
      "outputs": [
        {
          "output_type": "stream",
          "name": "stdout",
          "text": [
            "Mounted at /content/drive\n"
          ]
        }
      ]
    },
    {
      "cell_type": "markdown",
      "source": [
        "### **1 - Preprocessing**\n",
        "- - - \n"
      ],
      "metadata": {
        "id": "ckiAHXkbAek9"
      }
    },
    {
      "cell_type": "markdown",
      "source": [
        "#### **Read** the **reviews** dataset. As it is a **very heavy** one, let's use only the first 10,000 rows and **reduce** the **memory usage**"
      ],
      "metadata": {
        "id": "WO_dhSZ7zlDq"
      }
    },
    {
      "cell_type": "code",
      "source": [
        "df = pd.read_json('/content/drive/MyDrive/yelp_academic_dataset_review.json', nrows=10000, lines=True)"
      ],
      "metadata": {
        "id": "Vf0FMog8Orgk"
      },
      "execution_count": null,
      "outputs": []
    },
    {
      "cell_type": "code",
      "source": [
        "df.head()"
      ],
      "metadata": {
        "id": "2JVm5rW8OrlT",
        "colab": {
          "base_uri": "https://localhost:8080/",
          "height": 206
        },
        "outputId": "97e5ed1d-16e5-4896-8d6c-af81d2534fc5"
      },
      "execution_count": null,
      "outputs": [
        {
          "output_type": "execute_result",
          "data": {
            "text/plain": [
              "                review_id                 user_id             business_id  \\\n",
              "0  lWC-xP3rd6obsecCYsGZRg  ak0TdVmGKo4pwqdJSTLwWw  buF9druCkbuXLX526sGELQ   \n",
              "1  8bFej1QE5LXp4O05qjGqXA  YoVfDbnISlW0f7abNQACIg  RA4V8pr014UyUbDvI-LW2A   \n",
              "2  NDhkzczKjLshODbqDoNLSg  eC5evKn1TWDyHCyQAwguUw  _sS2LBIGNT5NQb6PD1Vtjw   \n",
              "3  T5fAqjjFooT4V0OeZyuk1w  SFQ1jcnGguO0LYWnbbftAA  0AzLzHfOJgL7ROwhdww2ew   \n",
              "4  sjm_uUcQVxab_EeLCqsYLg  0kA0PAJ8QFMeveQWHFqz2A  8zehGz9jnxPqXtOc7KaJxA   \n",
              "\n",
              "   stars  useful  funny  cool  \\\n",
              "0      4       3      1     1   \n",
              "1      4       1      0     0   \n",
              "2      5       0      0     0   \n",
              "3      2       1      1     1   \n",
              "4      4       0      0     0   \n",
              "\n",
              "                                                text                date  \n",
              "0  Apparently Prides Osteria had a rough summer a... 2014-10-11 03:34:02  \n",
              "1  This store is pretty good. Not as great as Wal... 2015-07-03 20:38:25  \n",
              "2  I called WVM on the recommendation of a couple... 2013-05-28 20:38:06  \n",
              "3  I've stayed at many Marriott and Renaissance M... 2010-01-08 02:29:15  \n",
              "4  The food is always great here. The service fro... 2011-07-28 18:05:01  "
            ],
            "text/html": [
              "\n",
              "  <div id=\"df-c89f5d5f-ac15-4da1-a3ea-3c5032fa2d59\">\n",
              "    <div class=\"colab-df-container\">\n",
              "      <div>\n",
              "<style scoped>\n",
              "    .dataframe tbody tr th:only-of-type {\n",
              "        vertical-align: middle;\n",
              "    }\n",
              "\n",
              "    .dataframe tbody tr th {\n",
              "        vertical-align: top;\n",
              "    }\n",
              "\n",
              "    .dataframe thead th {\n",
              "        text-align: right;\n",
              "    }\n",
              "</style>\n",
              "<table border=\"1\" class=\"dataframe\">\n",
              "  <thead>\n",
              "    <tr style=\"text-align: right;\">\n",
              "      <th></th>\n",
              "      <th>review_id</th>\n",
              "      <th>user_id</th>\n",
              "      <th>business_id</th>\n",
              "      <th>stars</th>\n",
              "      <th>useful</th>\n",
              "      <th>funny</th>\n",
              "      <th>cool</th>\n",
              "      <th>text</th>\n",
              "      <th>date</th>\n",
              "    </tr>\n",
              "  </thead>\n",
              "  <tbody>\n",
              "    <tr>\n",
              "      <th>0</th>\n",
              "      <td>lWC-xP3rd6obsecCYsGZRg</td>\n",
              "      <td>ak0TdVmGKo4pwqdJSTLwWw</td>\n",
              "      <td>buF9druCkbuXLX526sGELQ</td>\n",
              "      <td>4</td>\n",
              "      <td>3</td>\n",
              "      <td>1</td>\n",
              "      <td>1</td>\n",
              "      <td>Apparently Prides Osteria had a rough summer a...</td>\n",
              "      <td>2014-10-11 03:34:02</td>\n",
              "    </tr>\n",
              "    <tr>\n",
              "      <th>1</th>\n",
              "      <td>8bFej1QE5LXp4O05qjGqXA</td>\n",
              "      <td>YoVfDbnISlW0f7abNQACIg</td>\n",
              "      <td>RA4V8pr014UyUbDvI-LW2A</td>\n",
              "      <td>4</td>\n",
              "      <td>1</td>\n",
              "      <td>0</td>\n",
              "      <td>0</td>\n",
              "      <td>This store is pretty good. Not as great as Wal...</td>\n",
              "      <td>2015-07-03 20:38:25</td>\n",
              "    </tr>\n",
              "    <tr>\n",
              "      <th>2</th>\n",
              "      <td>NDhkzczKjLshODbqDoNLSg</td>\n",
              "      <td>eC5evKn1TWDyHCyQAwguUw</td>\n",
              "      <td>_sS2LBIGNT5NQb6PD1Vtjw</td>\n",
              "      <td>5</td>\n",
              "      <td>0</td>\n",
              "      <td>0</td>\n",
              "      <td>0</td>\n",
              "      <td>I called WVM on the recommendation of a couple...</td>\n",
              "      <td>2013-05-28 20:38:06</td>\n",
              "    </tr>\n",
              "    <tr>\n",
              "      <th>3</th>\n",
              "      <td>T5fAqjjFooT4V0OeZyuk1w</td>\n",
              "      <td>SFQ1jcnGguO0LYWnbbftAA</td>\n",
              "      <td>0AzLzHfOJgL7ROwhdww2ew</td>\n",
              "      <td>2</td>\n",
              "      <td>1</td>\n",
              "      <td>1</td>\n",
              "      <td>1</td>\n",
              "      <td>I've stayed at many Marriott and Renaissance M...</td>\n",
              "      <td>2010-01-08 02:29:15</td>\n",
              "    </tr>\n",
              "    <tr>\n",
              "      <th>4</th>\n",
              "      <td>sjm_uUcQVxab_EeLCqsYLg</td>\n",
              "      <td>0kA0PAJ8QFMeveQWHFqz2A</td>\n",
              "      <td>8zehGz9jnxPqXtOc7KaJxA</td>\n",
              "      <td>4</td>\n",
              "      <td>0</td>\n",
              "      <td>0</td>\n",
              "      <td>0</td>\n",
              "      <td>The food is always great here. The service fro...</td>\n",
              "      <td>2011-07-28 18:05:01</td>\n",
              "    </tr>\n",
              "  </tbody>\n",
              "</table>\n",
              "</div>\n",
              "      <button class=\"colab-df-convert\" onclick=\"convertToInteractive('df-c89f5d5f-ac15-4da1-a3ea-3c5032fa2d59')\"\n",
              "              title=\"Convert this dataframe to an interactive table.\"\n",
              "              style=\"display:none;\">\n",
              "        \n",
              "  <svg xmlns=\"http://www.w3.org/2000/svg\" height=\"24px\"viewBox=\"0 0 24 24\"\n",
              "       width=\"24px\">\n",
              "    <path d=\"M0 0h24v24H0V0z\" fill=\"none\"/>\n",
              "    <path d=\"M18.56 5.44l.94 2.06.94-2.06 2.06-.94-2.06-.94-.94-2.06-.94 2.06-2.06.94zm-11 1L8.5 8.5l.94-2.06 2.06-.94-2.06-.94L8.5 2.5l-.94 2.06-2.06.94zm10 10l.94 2.06.94-2.06 2.06-.94-2.06-.94-.94-2.06-.94 2.06-2.06.94z\"/><path d=\"M17.41 7.96l-1.37-1.37c-.4-.4-.92-.59-1.43-.59-.52 0-1.04.2-1.43.59L10.3 9.45l-7.72 7.72c-.78.78-.78 2.05 0 2.83L4 21.41c.39.39.9.59 1.41.59.51 0 1.02-.2 1.41-.59l7.78-7.78 2.81-2.81c.8-.78.8-2.07 0-2.86zM5.41 20L4 18.59l7.72-7.72 1.47 1.35L5.41 20z\"/>\n",
              "  </svg>\n",
              "      </button>\n",
              "      \n",
              "  <style>\n",
              "    .colab-df-container {\n",
              "      display:flex;\n",
              "      flex-wrap:wrap;\n",
              "      gap: 12px;\n",
              "    }\n",
              "\n",
              "    .colab-df-convert {\n",
              "      background-color: #E8F0FE;\n",
              "      border: none;\n",
              "      border-radius: 50%;\n",
              "      cursor: pointer;\n",
              "      display: none;\n",
              "      fill: #1967D2;\n",
              "      height: 32px;\n",
              "      padding: 0 0 0 0;\n",
              "      width: 32px;\n",
              "    }\n",
              "\n",
              "    .colab-df-convert:hover {\n",
              "      background-color: #E2EBFA;\n",
              "      box-shadow: 0px 1px 2px rgba(60, 64, 67, 0.3), 0px 1px 3px 1px rgba(60, 64, 67, 0.15);\n",
              "      fill: #174EA6;\n",
              "    }\n",
              "\n",
              "    [theme=dark] .colab-df-convert {\n",
              "      background-color: #3B4455;\n",
              "      fill: #D2E3FC;\n",
              "    }\n",
              "\n",
              "    [theme=dark] .colab-df-convert:hover {\n",
              "      background-color: #434B5C;\n",
              "      box-shadow: 0px 1px 3px 1px rgba(0, 0, 0, 0.15);\n",
              "      filter: drop-shadow(0px 1px 2px rgba(0, 0, 0, 0.3));\n",
              "      fill: #FFFFFF;\n",
              "    }\n",
              "  </style>\n",
              "\n",
              "      <script>\n",
              "        const buttonEl =\n",
              "          document.querySelector('#df-c89f5d5f-ac15-4da1-a3ea-3c5032fa2d59 button.colab-df-convert');\n",
              "        buttonEl.style.display =\n",
              "          google.colab.kernel.accessAllowed ? 'block' : 'none';\n",
              "\n",
              "        async function convertToInteractive(key) {\n",
              "          const element = document.querySelector('#df-c89f5d5f-ac15-4da1-a3ea-3c5032fa2d59');\n",
              "          const dataTable =\n",
              "            await google.colab.kernel.invokeFunction('convertToInteractive',\n",
              "                                                     [key], {});\n",
              "          if (!dataTable) return;\n",
              "\n",
              "          const docLinkHtml = 'Like what you see? Visit the ' +\n",
              "            '<a target=\"_blank\" href=https://colab.research.google.com/notebooks/data_table.ipynb>data table notebook</a>'\n",
              "            + ' to learn more about interactive tables.';\n",
              "          element.innerHTML = '';\n",
              "          dataTable['output_type'] = 'display_data';\n",
              "          await google.colab.output.renderOutput(dataTable, element);\n",
              "          const docLink = document.createElement('div');\n",
              "          docLink.innerHTML = docLinkHtml;\n",
              "          element.appendChild(docLink);\n",
              "        }\n",
              "      </script>\n",
              "    </div>\n",
              "  </div>\n",
              "  "
            ]
          },
          "metadata": {},
          "execution_count": 6
        }
      ]
    },
    {
      "cell_type": "markdown",
      "source": [
        "#### **Drop the columns** that we **won't be needing**"
      ],
      "metadata": {
        "id": "KOv92EsW1m8h"
      }
    },
    {
      "cell_type": "code",
      "source": [
        "cols_to_drop = ['review_id', 'user_id', 'useful', 'funny', 'cool', 'date'] \n",
        "df.drop(cols_to_drop, axis=1, inplace=True)"
      ],
      "metadata": {
        "id": "7fkvyL1xOrpw"
      },
      "execution_count": null,
      "outputs": []
    },
    {
      "cell_type": "code",
      "source": [
        "df.head()"
      ],
      "metadata": {
        "id": "lF-Fe0afOruS",
        "colab": {
          "base_uri": "https://localhost:8080/",
          "height": 206
        },
        "outputId": "d87253b0-9ac1-4dbf-bc72-f3805151a04b"
      },
      "execution_count": null,
      "outputs": [
        {
          "output_type": "execute_result",
          "data": {
            "text/plain": [
              "              business_id  stars  \\\n",
              "0  buF9druCkbuXLX526sGELQ      4   \n",
              "1  RA4V8pr014UyUbDvI-LW2A      4   \n",
              "2  _sS2LBIGNT5NQb6PD1Vtjw      5   \n",
              "3  0AzLzHfOJgL7ROwhdww2ew      2   \n",
              "4  8zehGz9jnxPqXtOc7KaJxA      4   \n",
              "\n",
              "                                                text  \n",
              "0  Apparently Prides Osteria had a rough summer a...  \n",
              "1  This store is pretty good. Not as great as Wal...  \n",
              "2  I called WVM on the recommendation of a couple...  \n",
              "3  I've stayed at many Marriott and Renaissance M...  \n",
              "4  The food is always great here. The service fro...  "
            ],
            "text/html": [
              "\n",
              "  <div id=\"df-e5d2559d-8d32-4d4b-a535-dfee8ae59bf3\">\n",
              "    <div class=\"colab-df-container\">\n",
              "      <div>\n",
              "<style scoped>\n",
              "    .dataframe tbody tr th:only-of-type {\n",
              "        vertical-align: middle;\n",
              "    }\n",
              "\n",
              "    .dataframe tbody tr th {\n",
              "        vertical-align: top;\n",
              "    }\n",
              "\n",
              "    .dataframe thead th {\n",
              "        text-align: right;\n",
              "    }\n",
              "</style>\n",
              "<table border=\"1\" class=\"dataframe\">\n",
              "  <thead>\n",
              "    <tr style=\"text-align: right;\">\n",
              "      <th></th>\n",
              "      <th>business_id</th>\n",
              "      <th>stars</th>\n",
              "      <th>text</th>\n",
              "    </tr>\n",
              "  </thead>\n",
              "  <tbody>\n",
              "    <tr>\n",
              "      <th>0</th>\n",
              "      <td>buF9druCkbuXLX526sGELQ</td>\n",
              "      <td>4</td>\n",
              "      <td>Apparently Prides Osteria had a rough summer a...</td>\n",
              "    </tr>\n",
              "    <tr>\n",
              "      <th>1</th>\n",
              "      <td>RA4V8pr014UyUbDvI-LW2A</td>\n",
              "      <td>4</td>\n",
              "      <td>This store is pretty good. Not as great as Wal...</td>\n",
              "    </tr>\n",
              "    <tr>\n",
              "      <th>2</th>\n",
              "      <td>_sS2LBIGNT5NQb6PD1Vtjw</td>\n",
              "      <td>5</td>\n",
              "      <td>I called WVM on the recommendation of a couple...</td>\n",
              "    </tr>\n",
              "    <tr>\n",
              "      <th>3</th>\n",
              "      <td>0AzLzHfOJgL7ROwhdww2ew</td>\n",
              "      <td>2</td>\n",
              "      <td>I've stayed at many Marriott and Renaissance M...</td>\n",
              "    </tr>\n",
              "    <tr>\n",
              "      <th>4</th>\n",
              "      <td>8zehGz9jnxPqXtOc7KaJxA</td>\n",
              "      <td>4</td>\n",
              "      <td>The food is always great here. The service fro...</td>\n",
              "    </tr>\n",
              "  </tbody>\n",
              "</table>\n",
              "</div>\n",
              "      <button class=\"colab-df-convert\" onclick=\"convertToInteractive('df-e5d2559d-8d32-4d4b-a535-dfee8ae59bf3')\"\n",
              "              title=\"Convert this dataframe to an interactive table.\"\n",
              "              style=\"display:none;\">\n",
              "        \n",
              "  <svg xmlns=\"http://www.w3.org/2000/svg\" height=\"24px\"viewBox=\"0 0 24 24\"\n",
              "       width=\"24px\">\n",
              "    <path d=\"M0 0h24v24H0V0z\" fill=\"none\"/>\n",
              "    <path d=\"M18.56 5.44l.94 2.06.94-2.06 2.06-.94-2.06-.94-.94-2.06-.94 2.06-2.06.94zm-11 1L8.5 8.5l.94-2.06 2.06-.94-2.06-.94L8.5 2.5l-.94 2.06-2.06.94zm10 10l.94 2.06.94-2.06 2.06-.94-2.06-.94-.94-2.06-.94 2.06-2.06.94z\"/><path d=\"M17.41 7.96l-1.37-1.37c-.4-.4-.92-.59-1.43-.59-.52 0-1.04.2-1.43.59L10.3 9.45l-7.72 7.72c-.78.78-.78 2.05 0 2.83L4 21.41c.39.39.9.59 1.41.59.51 0 1.02-.2 1.41-.59l7.78-7.78 2.81-2.81c.8-.78.8-2.07 0-2.86zM5.41 20L4 18.59l7.72-7.72 1.47 1.35L5.41 20z\"/>\n",
              "  </svg>\n",
              "      </button>\n",
              "      \n",
              "  <style>\n",
              "    .colab-df-container {\n",
              "      display:flex;\n",
              "      flex-wrap:wrap;\n",
              "      gap: 12px;\n",
              "    }\n",
              "\n",
              "    .colab-df-convert {\n",
              "      background-color: #E8F0FE;\n",
              "      border: none;\n",
              "      border-radius: 50%;\n",
              "      cursor: pointer;\n",
              "      display: none;\n",
              "      fill: #1967D2;\n",
              "      height: 32px;\n",
              "      padding: 0 0 0 0;\n",
              "      width: 32px;\n",
              "    }\n",
              "\n",
              "    .colab-df-convert:hover {\n",
              "      background-color: #E2EBFA;\n",
              "      box-shadow: 0px 1px 2px rgba(60, 64, 67, 0.3), 0px 1px 3px 1px rgba(60, 64, 67, 0.15);\n",
              "      fill: #174EA6;\n",
              "    }\n",
              "\n",
              "    [theme=dark] .colab-df-convert {\n",
              "      background-color: #3B4455;\n",
              "      fill: #D2E3FC;\n",
              "    }\n",
              "\n",
              "    [theme=dark] .colab-df-convert:hover {\n",
              "      background-color: #434B5C;\n",
              "      box-shadow: 0px 1px 3px 1px rgba(0, 0, 0, 0.15);\n",
              "      filter: drop-shadow(0px 1px 2px rgba(0, 0, 0, 0.3));\n",
              "      fill: #FFFFFF;\n",
              "    }\n",
              "  </style>\n",
              "\n",
              "      <script>\n",
              "        const buttonEl =\n",
              "          document.querySelector('#df-e5d2559d-8d32-4d4b-a535-dfee8ae59bf3 button.colab-df-convert');\n",
              "        buttonEl.style.display =\n",
              "          google.colab.kernel.accessAllowed ? 'block' : 'none';\n",
              "\n",
              "        async function convertToInteractive(key) {\n",
              "          const element = document.querySelector('#df-e5d2559d-8d32-4d4b-a535-dfee8ae59bf3');\n",
              "          const dataTable =\n",
              "            await google.colab.kernel.invokeFunction('convertToInteractive',\n",
              "                                                     [key], {});\n",
              "          if (!dataTable) return;\n",
              "\n",
              "          const docLinkHtml = 'Like what you see? Visit the ' +\n",
              "            '<a target=\"_blank\" href=https://colab.research.google.com/notebooks/data_table.ipynb>data table notebook</a>'\n",
              "            + ' to learn more about interactive tables.';\n",
              "          element.innerHTML = '';\n",
              "          dataTable['output_type'] = 'display_data';\n",
              "          await google.colab.output.renderOutput(dataTable, element);\n",
              "          const docLink = document.createElement('div');\n",
              "          docLink.innerHTML = docLinkHtml;\n",
              "          element.appendChild(docLink);\n",
              "        }\n",
              "      </script>\n",
              "    </div>\n",
              "  </div>\n",
              "  "
            ]
          },
          "metadata": {},
          "execution_count": 8
        }
      ]
    },
    {
      "cell_type": "markdown",
      "source": [
        "#### **Importing** the **business** dataset"
      ],
      "metadata": {
        "id": "yPSlv4-Q2AQ9"
      }
    },
    {
      "cell_type": "code",
      "source": [
        "df1 = pd.read_json('/content/drive/MyDrive/yelp_academic_dataset_business.json', lines=True)"
      ],
      "metadata": {
        "id": "KWjs5VloOryD"
      },
      "execution_count": null,
      "outputs": []
    },
    {
      "cell_type": "code",
      "source": [
        "df1.head()"
      ],
      "metadata": {
        "id": "ryBewrQS2YT0",
        "colab": {
          "base_uri": "https://localhost:8080/",
          "height": 528
        },
        "outputId": "1c3aa293-191f-4cee-c8ab-8105034bf758"
      },
      "execution_count": null,
      "outputs": [
        {
          "output_type": "execute_result",
          "data": {
            "text/plain": [
              "              business_id                     name              address  \\\n",
              "0  6iYb2HFDywm3zjuRg0shjw      Oskar Blues Taproom         921 Pearl St   \n",
              "1  tCbdrRPZA0oiIYSmHG3J0w  Flying Elephants at PDX  7000 NE Airport Way   \n",
              "2  bvN78flM8NLprQ1a1y5dRg           The Reclaimory   4720 Hawthorne Ave   \n",
              "3  oaepsyvc0J17qwi8cfrOWg              Great Clips   2566 Enterprise Rd   \n",
              "4  PE9uqAjdw0E4-8mjGl3wVA        Crossfit Terminus  1046 Memorial Dr SE   \n",
              "\n",
              "          city state postal_code   latitude   longitude  stars  review_count  \\\n",
              "0      Boulder    CO       80302  40.017544 -105.283348    4.0            86   \n",
              "1     Portland    OR       97218  45.588906 -122.593331    4.0           126   \n",
              "2     Portland    OR       97214  45.511907 -122.613693    4.5            13   \n",
              "3  Orange City    FL       32763  28.914482  -81.295979    3.0             8   \n",
              "4      Atlanta    GA       30316  33.747027  -84.353424    4.0            14   \n",
              "\n",
              "   is_open                                         attributes  \\\n",
              "0        1  {'RestaurantsTableService': 'True', 'WiFi': 'u...   \n",
              "1        1  {'RestaurantsTakeOut': 'True', 'RestaurantsAtt...   \n",
              "2        1  {'BusinessAcceptsCreditCards': 'True', 'Restau...   \n",
              "3        1  {'RestaurantsPriceRange2': '1', 'BusinessAccep...   \n",
              "4        1  {'GoodForKids': 'False', 'BusinessParking': '{...   \n",
              "\n",
              "                                          categories  \\\n",
              "0  Gastropubs, Food, Beer Gardens, Restaurants, B...   \n",
              "1  Salad, Soup, Sandwiches, Delis, Restaurants, C...   \n",
              "2  Antiques, Fashion, Used, Vintage & Consignment...   \n",
              "3                         Beauty & Spas, Hair Salons   \n",
              "4  Gyms, Active Life, Interval Training Gyms, Fit...   \n",
              "\n",
              "                                               hours  \n",
              "0  {'Monday': '11:0-23:0', 'Tuesday': '11:0-23:0'...  \n",
              "1  {'Monday': '5:0-18:0', 'Tuesday': '5:0-17:0', ...  \n",
              "2  {'Thursday': '11:0-18:0', 'Friday': '11:0-18:0...  \n",
              "3                                               None  \n",
              "4  {'Monday': '16:0-19:0', 'Tuesday': '16:0-19:0'...  "
            ],
            "text/html": [
              "\n",
              "  <div id=\"df-96334fde-1d32-4f21-a12f-7784797390d4\">\n",
              "    <div class=\"colab-df-container\">\n",
              "      <div>\n",
              "<style scoped>\n",
              "    .dataframe tbody tr th:only-of-type {\n",
              "        vertical-align: middle;\n",
              "    }\n",
              "\n",
              "    .dataframe tbody tr th {\n",
              "        vertical-align: top;\n",
              "    }\n",
              "\n",
              "    .dataframe thead th {\n",
              "        text-align: right;\n",
              "    }\n",
              "</style>\n",
              "<table border=\"1\" class=\"dataframe\">\n",
              "  <thead>\n",
              "    <tr style=\"text-align: right;\">\n",
              "      <th></th>\n",
              "      <th>business_id</th>\n",
              "      <th>name</th>\n",
              "      <th>address</th>\n",
              "      <th>city</th>\n",
              "      <th>state</th>\n",
              "      <th>postal_code</th>\n",
              "      <th>latitude</th>\n",
              "      <th>longitude</th>\n",
              "      <th>stars</th>\n",
              "      <th>review_count</th>\n",
              "      <th>is_open</th>\n",
              "      <th>attributes</th>\n",
              "      <th>categories</th>\n",
              "      <th>hours</th>\n",
              "    </tr>\n",
              "  </thead>\n",
              "  <tbody>\n",
              "    <tr>\n",
              "      <th>0</th>\n",
              "      <td>6iYb2HFDywm3zjuRg0shjw</td>\n",
              "      <td>Oskar Blues Taproom</td>\n",
              "      <td>921 Pearl St</td>\n",
              "      <td>Boulder</td>\n",
              "      <td>CO</td>\n",
              "      <td>80302</td>\n",
              "      <td>40.017544</td>\n",
              "      <td>-105.283348</td>\n",
              "      <td>4.0</td>\n",
              "      <td>86</td>\n",
              "      <td>1</td>\n",
              "      <td>{'RestaurantsTableService': 'True', 'WiFi': 'u...</td>\n",
              "      <td>Gastropubs, Food, Beer Gardens, Restaurants, B...</td>\n",
              "      <td>{'Monday': '11:0-23:0', 'Tuesday': '11:0-23:0'...</td>\n",
              "    </tr>\n",
              "    <tr>\n",
              "      <th>1</th>\n",
              "      <td>tCbdrRPZA0oiIYSmHG3J0w</td>\n",
              "      <td>Flying Elephants at PDX</td>\n",
              "      <td>7000 NE Airport Way</td>\n",
              "      <td>Portland</td>\n",
              "      <td>OR</td>\n",
              "      <td>97218</td>\n",
              "      <td>45.588906</td>\n",
              "      <td>-122.593331</td>\n",
              "      <td>4.0</td>\n",
              "      <td>126</td>\n",
              "      <td>1</td>\n",
              "      <td>{'RestaurantsTakeOut': 'True', 'RestaurantsAtt...</td>\n",
              "      <td>Salad, Soup, Sandwiches, Delis, Restaurants, C...</td>\n",
              "      <td>{'Monday': '5:0-18:0', 'Tuesday': '5:0-17:0', ...</td>\n",
              "    </tr>\n",
              "    <tr>\n",
              "      <th>2</th>\n",
              "      <td>bvN78flM8NLprQ1a1y5dRg</td>\n",
              "      <td>The Reclaimory</td>\n",
              "      <td>4720 Hawthorne Ave</td>\n",
              "      <td>Portland</td>\n",
              "      <td>OR</td>\n",
              "      <td>97214</td>\n",
              "      <td>45.511907</td>\n",
              "      <td>-122.613693</td>\n",
              "      <td>4.5</td>\n",
              "      <td>13</td>\n",
              "      <td>1</td>\n",
              "      <td>{'BusinessAcceptsCreditCards': 'True', 'Restau...</td>\n",
              "      <td>Antiques, Fashion, Used, Vintage &amp; Consignment...</td>\n",
              "      <td>{'Thursday': '11:0-18:0', 'Friday': '11:0-18:0...</td>\n",
              "    </tr>\n",
              "    <tr>\n",
              "      <th>3</th>\n",
              "      <td>oaepsyvc0J17qwi8cfrOWg</td>\n",
              "      <td>Great Clips</td>\n",
              "      <td>2566 Enterprise Rd</td>\n",
              "      <td>Orange City</td>\n",
              "      <td>FL</td>\n",
              "      <td>32763</td>\n",
              "      <td>28.914482</td>\n",
              "      <td>-81.295979</td>\n",
              "      <td>3.0</td>\n",
              "      <td>8</td>\n",
              "      <td>1</td>\n",
              "      <td>{'RestaurantsPriceRange2': '1', 'BusinessAccep...</td>\n",
              "      <td>Beauty &amp; Spas, Hair Salons</td>\n",
              "      <td>None</td>\n",
              "    </tr>\n",
              "    <tr>\n",
              "      <th>4</th>\n",
              "      <td>PE9uqAjdw0E4-8mjGl3wVA</td>\n",
              "      <td>Crossfit Terminus</td>\n",
              "      <td>1046 Memorial Dr SE</td>\n",
              "      <td>Atlanta</td>\n",
              "      <td>GA</td>\n",
              "      <td>30316</td>\n",
              "      <td>33.747027</td>\n",
              "      <td>-84.353424</td>\n",
              "      <td>4.0</td>\n",
              "      <td>14</td>\n",
              "      <td>1</td>\n",
              "      <td>{'GoodForKids': 'False', 'BusinessParking': '{...</td>\n",
              "      <td>Gyms, Active Life, Interval Training Gyms, Fit...</td>\n",
              "      <td>{'Monday': '16:0-19:0', 'Tuesday': '16:0-19:0'...</td>\n",
              "    </tr>\n",
              "  </tbody>\n",
              "</table>\n",
              "</div>\n",
              "      <button class=\"colab-df-convert\" onclick=\"convertToInteractive('df-96334fde-1d32-4f21-a12f-7784797390d4')\"\n",
              "              title=\"Convert this dataframe to an interactive table.\"\n",
              "              style=\"display:none;\">\n",
              "        \n",
              "  <svg xmlns=\"http://www.w3.org/2000/svg\" height=\"24px\"viewBox=\"0 0 24 24\"\n",
              "       width=\"24px\">\n",
              "    <path d=\"M0 0h24v24H0V0z\" fill=\"none\"/>\n",
              "    <path d=\"M18.56 5.44l.94 2.06.94-2.06 2.06-.94-2.06-.94-.94-2.06-.94 2.06-2.06.94zm-11 1L8.5 8.5l.94-2.06 2.06-.94-2.06-.94L8.5 2.5l-.94 2.06-2.06.94zm10 10l.94 2.06.94-2.06 2.06-.94-2.06-.94-.94-2.06-.94 2.06-2.06.94z\"/><path d=\"M17.41 7.96l-1.37-1.37c-.4-.4-.92-.59-1.43-.59-.52 0-1.04.2-1.43.59L10.3 9.45l-7.72 7.72c-.78.78-.78 2.05 0 2.83L4 21.41c.39.39.9.59 1.41.59.51 0 1.02-.2 1.41-.59l7.78-7.78 2.81-2.81c.8-.78.8-2.07 0-2.86zM5.41 20L4 18.59l7.72-7.72 1.47 1.35L5.41 20z\"/>\n",
              "  </svg>\n",
              "      </button>\n",
              "      \n",
              "  <style>\n",
              "    .colab-df-container {\n",
              "      display:flex;\n",
              "      flex-wrap:wrap;\n",
              "      gap: 12px;\n",
              "    }\n",
              "\n",
              "    .colab-df-convert {\n",
              "      background-color: #E8F0FE;\n",
              "      border: none;\n",
              "      border-radius: 50%;\n",
              "      cursor: pointer;\n",
              "      display: none;\n",
              "      fill: #1967D2;\n",
              "      height: 32px;\n",
              "      padding: 0 0 0 0;\n",
              "      width: 32px;\n",
              "    }\n",
              "\n",
              "    .colab-df-convert:hover {\n",
              "      background-color: #E2EBFA;\n",
              "      box-shadow: 0px 1px 2px rgba(60, 64, 67, 0.3), 0px 1px 3px 1px rgba(60, 64, 67, 0.15);\n",
              "      fill: #174EA6;\n",
              "    }\n",
              "\n",
              "    [theme=dark] .colab-df-convert {\n",
              "      background-color: #3B4455;\n",
              "      fill: #D2E3FC;\n",
              "    }\n",
              "\n",
              "    [theme=dark] .colab-df-convert:hover {\n",
              "      background-color: #434B5C;\n",
              "      box-shadow: 0px 1px 3px 1px rgba(0, 0, 0, 0.15);\n",
              "      filter: drop-shadow(0px 1px 2px rgba(0, 0, 0, 0.3));\n",
              "      fill: #FFFFFF;\n",
              "    }\n",
              "  </style>\n",
              "\n",
              "      <script>\n",
              "        const buttonEl =\n",
              "          document.querySelector('#df-96334fde-1d32-4f21-a12f-7784797390d4 button.colab-df-convert');\n",
              "        buttonEl.style.display =\n",
              "          google.colab.kernel.accessAllowed ? 'block' : 'none';\n",
              "\n",
              "        async function convertToInteractive(key) {\n",
              "          const element = document.querySelector('#df-96334fde-1d32-4f21-a12f-7784797390d4');\n",
              "          const dataTable =\n",
              "            await google.colab.kernel.invokeFunction('convertToInteractive',\n",
              "                                                     [key], {});\n",
              "          if (!dataTable) return;\n",
              "\n",
              "          const docLinkHtml = 'Like what you see? Visit the ' +\n",
              "            '<a target=\"_blank\" href=https://colab.research.google.com/notebooks/data_table.ipynb>data table notebook</a>'\n",
              "            + ' to learn more about interactive tables.';\n",
              "          element.innerHTML = '';\n",
              "          dataTable['output_type'] = 'display_data';\n",
              "          await google.colab.output.renderOutput(dataTable, element);\n",
              "          const docLink = document.createElement('div');\n",
              "          docLink.innerHTML = docLinkHtml;\n",
              "          element.appendChild(docLink);\n",
              "        }\n",
              "      </script>\n",
              "    </div>\n",
              "  </div>\n",
              "  "
            ]
          },
          "metadata": {},
          "execution_count": 10
        }
      ]
    },
    {
      "cell_type": "markdown",
      "source": [
        "#### We **only** want to analyze the **restaurant** category from the **business** dataset"
      ],
      "metadata": {
        "id": "9Jkb7fTY2dxg"
      }
    },
    {
      "cell_type": "code",
      "source": [
        "df1 = df1[df1['categories'].notnull()]\n",
        "df_rest = df1[df1['categories'].str.contains('Restaurant')]"
      ],
      "metadata": {
        "id": "LkzRAnT2Or1w"
      },
      "execution_count": null,
      "outputs": []
    },
    {
      "cell_type": "code",
      "source": [
        "df_rest = df_rest[['business_id', 'categories']]"
      ],
      "metadata": {
        "id": "NIEee5u-Or6J"
      },
      "execution_count": null,
      "outputs": []
    },
    {
      "cell_type": "code",
      "source": [
        "df_rest.head()"
      ],
      "metadata": {
        "id": "cL2klGyh3LM3",
        "colab": {
          "base_uri": "https://localhost:8080/",
          "height": 206
        },
        "outputId": "6ba7dae7-bbb7-41be-ea6b-42e17a5942fe"
      },
      "execution_count": null,
      "outputs": [
        {
          "output_type": "execute_result",
          "data": {
            "text/plain": [
              "               business_id                                         categories\n",
              "0   6iYb2HFDywm3zjuRg0shjw  Gastropubs, Food, Beer Gardens, Restaurants, B...\n",
              "1   tCbdrRPZA0oiIYSmHG3J0w  Salad, Soup, Sandwiches, Delis, Restaurants, C...\n",
              "5   D4JtQNTI4X3KcbzacDJsMw                                  Restaurants, Thai\n",
              "7   jFYIsSb7r1QeESVUnXPHBw                    Breakfast & Brunch, Restaurants\n",
              "12  HPA_qyMEddpAEtFof02ixg                           Food, Pizza, Restaurants"
            ],
            "text/html": [
              "\n",
              "  <div id=\"df-bcd8a5ab-ec9d-4649-83d8-725a522398f8\">\n",
              "    <div class=\"colab-df-container\">\n",
              "      <div>\n",
              "<style scoped>\n",
              "    .dataframe tbody tr th:only-of-type {\n",
              "        vertical-align: middle;\n",
              "    }\n",
              "\n",
              "    .dataframe tbody tr th {\n",
              "        vertical-align: top;\n",
              "    }\n",
              "\n",
              "    .dataframe thead th {\n",
              "        text-align: right;\n",
              "    }\n",
              "</style>\n",
              "<table border=\"1\" class=\"dataframe\">\n",
              "  <thead>\n",
              "    <tr style=\"text-align: right;\">\n",
              "      <th></th>\n",
              "      <th>business_id</th>\n",
              "      <th>categories</th>\n",
              "    </tr>\n",
              "  </thead>\n",
              "  <tbody>\n",
              "    <tr>\n",
              "      <th>0</th>\n",
              "      <td>6iYb2HFDywm3zjuRg0shjw</td>\n",
              "      <td>Gastropubs, Food, Beer Gardens, Restaurants, B...</td>\n",
              "    </tr>\n",
              "    <tr>\n",
              "      <th>1</th>\n",
              "      <td>tCbdrRPZA0oiIYSmHG3J0w</td>\n",
              "      <td>Salad, Soup, Sandwiches, Delis, Restaurants, C...</td>\n",
              "    </tr>\n",
              "    <tr>\n",
              "      <th>5</th>\n",
              "      <td>D4JtQNTI4X3KcbzacDJsMw</td>\n",
              "      <td>Restaurants, Thai</td>\n",
              "    </tr>\n",
              "    <tr>\n",
              "      <th>7</th>\n",
              "      <td>jFYIsSb7r1QeESVUnXPHBw</td>\n",
              "      <td>Breakfast &amp; Brunch, Restaurants</td>\n",
              "    </tr>\n",
              "    <tr>\n",
              "      <th>12</th>\n",
              "      <td>HPA_qyMEddpAEtFof02ixg</td>\n",
              "      <td>Food, Pizza, Restaurants</td>\n",
              "    </tr>\n",
              "  </tbody>\n",
              "</table>\n",
              "</div>\n",
              "      <button class=\"colab-df-convert\" onclick=\"convertToInteractive('df-bcd8a5ab-ec9d-4649-83d8-725a522398f8')\"\n",
              "              title=\"Convert this dataframe to an interactive table.\"\n",
              "              style=\"display:none;\">\n",
              "        \n",
              "  <svg xmlns=\"http://www.w3.org/2000/svg\" height=\"24px\"viewBox=\"0 0 24 24\"\n",
              "       width=\"24px\">\n",
              "    <path d=\"M0 0h24v24H0V0z\" fill=\"none\"/>\n",
              "    <path d=\"M18.56 5.44l.94 2.06.94-2.06 2.06-.94-2.06-.94-.94-2.06-.94 2.06-2.06.94zm-11 1L8.5 8.5l.94-2.06 2.06-.94-2.06-.94L8.5 2.5l-.94 2.06-2.06.94zm10 10l.94 2.06.94-2.06 2.06-.94-2.06-.94-.94-2.06-.94 2.06-2.06.94z\"/><path d=\"M17.41 7.96l-1.37-1.37c-.4-.4-.92-.59-1.43-.59-.52 0-1.04.2-1.43.59L10.3 9.45l-7.72 7.72c-.78.78-.78 2.05 0 2.83L4 21.41c.39.39.9.59 1.41.59.51 0 1.02-.2 1.41-.59l7.78-7.78 2.81-2.81c.8-.78.8-2.07 0-2.86zM5.41 20L4 18.59l7.72-7.72 1.47 1.35L5.41 20z\"/>\n",
              "  </svg>\n",
              "      </button>\n",
              "      \n",
              "  <style>\n",
              "    .colab-df-container {\n",
              "      display:flex;\n",
              "      flex-wrap:wrap;\n",
              "      gap: 12px;\n",
              "    }\n",
              "\n",
              "    .colab-df-convert {\n",
              "      background-color: #E8F0FE;\n",
              "      border: none;\n",
              "      border-radius: 50%;\n",
              "      cursor: pointer;\n",
              "      display: none;\n",
              "      fill: #1967D2;\n",
              "      height: 32px;\n",
              "      padding: 0 0 0 0;\n",
              "      width: 32px;\n",
              "    }\n",
              "\n",
              "    .colab-df-convert:hover {\n",
              "      background-color: #E2EBFA;\n",
              "      box-shadow: 0px 1px 2px rgba(60, 64, 67, 0.3), 0px 1px 3px 1px rgba(60, 64, 67, 0.15);\n",
              "      fill: #174EA6;\n",
              "    }\n",
              "\n",
              "    [theme=dark] .colab-df-convert {\n",
              "      background-color: #3B4455;\n",
              "      fill: #D2E3FC;\n",
              "    }\n",
              "\n",
              "    [theme=dark] .colab-df-convert:hover {\n",
              "      background-color: #434B5C;\n",
              "      box-shadow: 0px 1px 3px 1px rgba(0, 0, 0, 0.15);\n",
              "      filter: drop-shadow(0px 1px 2px rgba(0, 0, 0, 0.3));\n",
              "      fill: #FFFFFF;\n",
              "    }\n",
              "  </style>\n",
              "\n",
              "      <script>\n",
              "        const buttonEl =\n",
              "          document.querySelector('#df-bcd8a5ab-ec9d-4649-83d8-725a522398f8 button.colab-df-convert');\n",
              "        buttonEl.style.display =\n",
              "          google.colab.kernel.accessAllowed ? 'block' : 'none';\n",
              "\n",
              "        async function convertToInteractive(key) {\n",
              "          const element = document.querySelector('#df-bcd8a5ab-ec9d-4649-83d8-725a522398f8');\n",
              "          const dataTable =\n",
              "            await google.colab.kernel.invokeFunction('convertToInteractive',\n",
              "                                                     [key], {});\n",
              "          if (!dataTable) return;\n",
              "\n",
              "          const docLinkHtml = 'Like what you see? Visit the ' +\n",
              "            '<a target=\"_blank\" href=https://colab.research.google.com/notebooks/data_table.ipynb>data table notebook</a>'\n",
              "            + ' to learn more about interactive tables.';\n",
              "          element.innerHTML = '';\n",
              "          dataTable['output_type'] = 'display_data';\n",
              "          await google.colab.output.renderOutput(dataTable, element);\n",
              "          const docLink = document.createElement('div');\n",
              "          docLink.innerHTML = docLinkHtml;\n",
              "          element.appendChild(docLink);\n",
              "        }\n",
              "      </script>\n",
              "    </div>\n",
              "  </div>\n",
              "  "
            ]
          },
          "metadata": {},
          "execution_count": 13
        }
      ]
    },
    {
      "cell_type": "markdown",
      "source": [
        "#### We want to **merge** the two datasets to analyse the **restaurant reviews**. \"**business_id**\" is the **common** columm of the two datasets"
      ],
      "metadata": {
        "id": "Qodph1Yj3Pl-"
      }
    },
    {
      "cell_type": "code",
      "source": [
        "df_merged = df.merge(df_rest, how='inner', on='business_id')"
      ],
      "metadata": {
        "id": "1gYxDOuFOsL-"
      },
      "execution_count": null,
      "outputs": []
    },
    {
      "cell_type": "code",
      "source": [
        "del df, df_rest"
      ],
      "metadata": {
        "id": "usnIvi3LOsQe"
      },
      "execution_count": null,
      "outputs": []
    },
    {
      "cell_type": "code",
      "source": [
        "df_merged.head()"
      ],
      "metadata": {
        "id": "LenH4d69Ot6x",
        "colab": {
          "base_uri": "https://localhost:8080/",
          "height": 206
        },
        "outputId": "ce5c20fc-e8b8-4cff-feb4-f05ae5983d56"
      },
      "execution_count": null,
      "outputs": [
        {
          "output_type": "execute_result",
          "data": {
            "text/plain": [
              "              business_id  stars  \\\n",
              "0  buF9druCkbuXLX526sGELQ      4   \n",
              "1  buF9druCkbuXLX526sGELQ      2   \n",
              "2  buF9druCkbuXLX526sGELQ      5   \n",
              "3  buF9druCkbuXLX526sGELQ      5   \n",
              "4  0AzLzHfOJgL7ROwhdww2ew      2   \n",
              "\n",
              "                                                text  \\\n",
              "0  Apparently Prides Osteria had a rough summer a...   \n",
              "1  I was really disappointed to say the least. I ...   \n",
              "2  This is as close to dining in Italy as you'll ...   \n",
              "3  Great food and service! Again. 4 out of the la...   \n",
              "4  I've stayed at many Marriott and Renaissance M...   \n",
              "\n",
              "                                          categories  \n",
              "0  Restaurants, Wine Bars, Nightlife, Farmers Mar...  \n",
              "1  Restaurants, Wine Bars, Nightlife, Farmers Mar...  \n",
              "2  Restaurants, Wine Bars, Nightlife, Farmers Mar...  \n",
              "3  Restaurants, Wine Bars, Nightlife, Farmers Mar...  \n",
              "4  Hotels, Hotels & Travel, Restaurants, Event Pl...  "
            ],
            "text/html": [
              "\n",
              "  <div id=\"df-f2e292bb-10f9-44e0-a215-11416d45b2f8\">\n",
              "    <div class=\"colab-df-container\">\n",
              "      <div>\n",
              "<style scoped>\n",
              "    .dataframe tbody tr th:only-of-type {\n",
              "        vertical-align: middle;\n",
              "    }\n",
              "\n",
              "    .dataframe tbody tr th {\n",
              "        vertical-align: top;\n",
              "    }\n",
              "\n",
              "    .dataframe thead th {\n",
              "        text-align: right;\n",
              "    }\n",
              "</style>\n",
              "<table border=\"1\" class=\"dataframe\">\n",
              "  <thead>\n",
              "    <tr style=\"text-align: right;\">\n",
              "      <th></th>\n",
              "      <th>business_id</th>\n",
              "      <th>stars</th>\n",
              "      <th>text</th>\n",
              "      <th>categories</th>\n",
              "    </tr>\n",
              "  </thead>\n",
              "  <tbody>\n",
              "    <tr>\n",
              "      <th>0</th>\n",
              "      <td>buF9druCkbuXLX526sGELQ</td>\n",
              "      <td>4</td>\n",
              "      <td>Apparently Prides Osteria had a rough summer a...</td>\n",
              "      <td>Restaurants, Wine Bars, Nightlife, Farmers Mar...</td>\n",
              "    </tr>\n",
              "    <tr>\n",
              "      <th>1</th>\n",
              "      <td>buF9druCkbuXLX526sGELQ</td>\n",
              "      <td>2</td>\n",
              "      <td>I was really disappointed to say the least. I ...</td>\n",
              "      <td>Restaurants, Wine Bars, Nightlife, Farmers Mar...</td>\n",
              "    </tr>\n",
              "    <tr>\n",
              "      <th>2</th>\n",
              "      <td>buF9druCkbuXLX526sGELQ</td>\n",
              "      <td>5</td>\n",
              "      <td>This is as close to dining in Italy as you'll ...</td>\n",
              "      <td>Restaurants, Wine Bars, Nightlife, Farmers Mar...</td>\n",
              "    </tr>\n",
              "    <tr>\n",
              "      <th>3</th>\n",
              "      <td>buF9druCkbuXLX526sGELQ</td>\n",
              "      <td>5</td>\n",
              "      <td>Great food and service! Again. 4 out of the la...</td>\n",
              "      <td>Restaurants, Wine Bars, Nightlife, Farmers Mar...</td>\n",
              "    </tr>\n",
              "    <tr>\n",
              "      <th>4</th>\n",
              "      <td>0AzLzHfOJgL7ROwhdww2ew</td>\n",
              "      <td>2</td>\n",
              "      <td>I've stayed at many Marriott and Renaissance M...</td>\n",
              "      <td>Hotels, Hotels &amp; Travel, Restaurants, Event Pl...</td>\n",
              "    </tr>\n",
              "  </tbody>\n",
              "</table>\n",
              "</div>\n",
              "      <button class=\"colab-df-convert\" onclick=\"convertToInteractive('df-f2e292bb-10f9-44e0-a215-11416d45b2f8')\"\n",
              "              title=\"Convert this dataframe to an interactive table.\"\n",
              "              style=\"display:none;\">\n",
              "        \n",
              "  <svg xmlns=\"http://www.w3.org/2000/svg\" height=\"24px\"viewBox=\"0 0 24 24\"\n",
              "       width=\"24px\">\n",
              "    <path d=\"M0 0h24v24H0V0z\" fill=\"none\"/>\n",
              "    <path d=\"M18.56 5.44l.94 2.06.94-2.06 2.06-.94-2.06-.94-.94-2.06-.94 2.06-2.06.94zm-11 1L8.5 8.5l.94-2.06 2.06-.94-2.06-.94L8.5 2.5l-.94 2.06-2.06.94zm10 10l.94 2.06.94-2.06 2.06-.94-2.06-.94-.94-2.06-.94 2.06-2.06.94z\"/><path d=\"M17.41 7.96l-1.37-1.37c-.4-.4-.92-.59-1.43-.59-.52 0-1.04.2-1.43.59L10.3 9.45l-7.72 7.72c-.78.78-.78 2.05 0 2.83L4 21.41c.39.39.9.59 1.41.59.51 0 1.02-.2 1.41-.59l7.78-7.78 2.81-2.81c.8-.78.8-2.07 0-2.86zM5.41 20L4 18.59l7.72-7.72 1.47 1.35L5.41 20z\"/>\n",
              "  </svg>\n",
              "      </button>\n",
              "      \n",
              "  <style>\n",
              "    .colab-df-container {\n",
              "      display:flex;\n",
              "      flex-wrap:wrap;\n",
              "      gap: 12px;\n",
              "    }\n",
              "\n",
              "    .colab-df-convert {\n",
              "      background-color: #E8F0FE;\n",
              "      border: none;\n",
              "      border-radius: 50%;\n",
              "      cursor: pointer;\n",
              "      display: none;\n",
              "      fill: #1967D2;\n",
              "      height: 32px;\n",
              "      padding: 0 0 0 0;\n",
              "      width: 32px;\n",
              "    }\n",
              "\n",
              "    .colab-df-convert:hover {\n",
              "      background-color: #E2EBFA;\n",
              "      box-shadow: 0px 1px 2px rgba(60, 64, 67, 0.3), 0px 1px 3px 1px rgba(60, 64, 67, 0.15);\n",
              "      fill: #174EA6;\n",
              "    }\n",
              "\n",
              "    [theme=dark] .colab-df-convert {\n",
              "      background-color: #3B4455;\n",
              "      fill: #D2E3FC;\n",
              "    }\n",
              "\n",
              "    [theme=dark] .colab-df-convert:hover {\n",
              "      background-color: #434B5C;\n",
              "      box-shadow: 0px 1px 3px 1px rgba(0, 0, 0, 0.15);\n",
              "      filter: drop-shadow(0px 1px 2px rgba(0, 0, 0, 0.3));\n",
              "      fill: #FFFFFF;\n",
              "    }\n",
              "  </style>\n",
              "\n",
              "      <script>\n",
              "        const buttonEl =\n",
              "          document.querySelector('#df-f2e292bb-10f9-44e0-a215-11416d45b2f8 button.colab-df-convert');\n",
              "        buttonEl.style.display =\n",
              "          google.colab.kernel.accessAllowed ? 'block' : 'none';\n",
              "\n",
              "        async function convertToInteractive(key) {\n",
              "          const element = document.querySelector('#df-f2e292bb-10f9-44e0-a215-11416d45b2f8');\n",
              "          const dataTable =\n",
              "            await google.colab.kernel.invokeFunction('convertToInteractive',\n",
              "                                                     [key], {});\n",
              "          if (!dataTable) return;\n",
              "\n",
              "          const docLinkHtml = 'Like what you see? Visit the ' +\n",
              "            '<a target=\"_blank\" href=https://colab.research.google.com/notebooks/data_table.ipynb>data table notebook</a>'\n",
              "            + ' to learn more about interactive tables.';\n",
              "          element.innerHTML = '';\n",
              "          dataTable['output_type'] = 'display_data';\n",
              "          await google.colab.output.renderOutput(dataTable, element);\n",
              "          const docLink = document.createElement('div');\n",
              "          docLink.innerHTML = docLinkHtml;\n",
              "          element.appendChild(docLink);\n",
              "        }\n",
              "      </script>\n",
              "    </div>\n",
              "  </div>\n",
              "  "
            ]
          },
          "metadata": {},
          "execution_count": 16
        }
      ]
    },
    {
      "cell_type": "markdown",
      "source": [
        "#### **Rename** the **text column** and **remove** the **\"business_id\"** column because it **isn't necessary anymore**"
      ],
      "metadata": {
        "id": "exdkMOVa5Hyo"
      }
    },
    {
      "cell_type": "code",
      "source": [
        "df_merged.rename(columns={'text':'restaurant_reviews'}, inplace=True)\n",
        "df_merged.drop('business_id', axis=1, inplace=True)"
      ],
      "metadata": {
        "id": "eUDpeGrUOt_S"
      },
      "execution_count": null,
      "outputs": []
    },
    {
      "cell_type": "markdown",
      "source": [
        "#### We will **only** analyse the reviews **written** in **English**"
      ],
      "metadata": {
        "id": "x80FJmC5uXI4"
      }
    },
    {
      "cell_type": "code",
      "source": [
        "from langdetect import detect "
      ],
      "metadata": {
        "id": "DSiq-u_xP5mF"
      },
      "execution_count": null,
      "outputs": []
    },
    {
      "cell_type": "code",
      "source": [
        "df_merged['detect'] = df_merged['restaurant_reviews'].apply(detect)\n",
        "df_merged = df_merged[df_merged['detect'] == 'en'].reset_index(drop=True)"
      ],
      "metadata": {
        "id": "vl_AiME2P5r0"
      },
      "execution_count": null,
      "outputs": []
    },
    {
      "cell_type": "code",
      "source": [
        "# Check if there is NaN values\n",
        "df_merged.isnull().values.any()"
      ],
      "metadata": {
        "id": "DZ7M_4epP5xv",
        "colab": {
          "base_uri": "https://localhost:8080/"
        },
        "outputId": "518f8dd1-574f-4afe-bdcc-d7922eaea8cd"
      },
      "execution_count": null,
      "outputs": [
        {
          "output_type": "execute_result",
          "data": {
            "text/plain": [
              "False"
            ]
          },
          "metadata": {},
          "execution_count": 20
        }
      ]
    },
    {
      "cell_type": "code",
      "source": [
        "df_merged.shape"
      ],
      "metadata": {
        "id": "GsD1CQGwP54e",
        "colab": {
          "base_uri": "https://localhost:8080/"
        },
        "outputId": "ebe2923e-b743-41d5-a555-44809ad387df"
      },
      "execution_count": null,
      "outputs": [
        {
          "output_type": "execute_result",
          "data": {
            "text/plain": [
              "(6987, 4)"
            ]
          },
          "metadata": {},
          "execution_count": 20
        }
      ]
    },
    {
      "cell_type": "markdown",
      "source": [
        "#### Return the dataframe with **duplicate** rows **removed**"
      ],
      "metadata": {
        "id": "IpOS_Hn25sU2"
      }
    },
    {
      "cell_type": "code",
      "source": [
        "df_final = df_merged.drop_duplicates()"
      ],
      "metadata": {
        "id": "trGlymgUP5-d"
      },
      "execution_count": null,
      "outputs": []
    },
    {
      "cell_type": "markdown",
      "source": [
        "#### As **many** of the **3 stars reviews**, most likely, have both **good and bad aspects/feelings**, we will **remove** those reviews so they **won't harm** our sentiment analysis"
      ],
      "metadata": {
        "id": "WT9zEKyi6hk0"
      }
    },
    {
      "cell_type": "code",
      "source": [
        "df_final = df_final[(df_final[\"stars\"]!=3)]\n",
        "df_final.head(20)"
      ],
      "metadata": {
        "id": "VxG96PWOP6D8",
        "colab": {
          "base_uri": "https://localhost:8080/",
          "height": 676
        },
        "outputId": "b583d2e8-41f3-4a56-c618-a9ba11794224"
      },
      "execution_count": null,
      "outputs": [
        {
          "output_type": "execute_result",
          "data": {
            "text/plain": [
              "    stars                                 restaurant_reviews  \\\n",
              "0       4  Apparently Prides Osteria had a rough summer a...   \n",
              "1       2  I was really disappointed to say the least. I ...   \n",
              "2       5  This is as close to dining in Italy as you'll ...   \n",
              "3       5  Great food and service! Again. 4 out of the la...   \n",
              "4       2  I've stayed at many Marriott and Renaissance M...   \n",
              "5       4  I was a there for a professional conference. s...   \n",
              "6       4  I stayed for five nights this past April with ...   \n",
              "7       4  I stayed here recently for a conference I was ...   \n",
              "8       4  The food is always great here. The service fro...   \n",
              "9       2  Brasserie zero zero... we were hoping for a te...   \n",
              "10      5  I absolutely love this restaurant. I've been c...   \n",
              "11      5  The food is great!  One of my fav brunch spots...   \n",
              "12      5  Went here for dinner in day two of our trip. I...   \n",
              "13      5  Food: 4.0 of 5.0\\nService: 5.0 of 5.0\\nEnviron...   \n",
              "14      4  one of the staples in boulder.  fabulous space...   \n",
              "15      5  Wow. Best service I have ever had. Slight wait...   \n",
              "16      4  I'm giving four stars because the service was ...   \n",
              "17      5  I had the duck, the fromage special, and the m...   \n",
              "18      4  Better than I expected it to be.  To be fair, ...   \n",
              "19      5  I like this place! Every time I visit Boulder,...   \n",
              "\n",
              "                                           categories detect  \n",
              "0   Restaurants, Wine Bars, Nightlife, Farmers Mar...     en  \n",
              "1   Restaurants, Wine Bars, Nightlife, Farmers Mar...     en  \n",
              "2   Restaurants, Wine Bars, Nightlife, Farmers Mar...     en  \n",
              "3   Restaurants, Wine Bars, Nightlife, Farmers Mar...     en  \n",
              "4   Hotels, Hotels & Travel, Restaurants, Event Pl...     en  \n",
              "5   Hotels, Hotels & Travel, Restaurants, Event Pl...     en  \n",
              "6   Hotels, Hotels & Travel, Restaurants, Event Pl...     en  \n",
              "7   Hotels, Hotels & Travel, Restaurants, Event Pl...     en  \n",
              "8                                 Restaurants, French     en  \n",
              "9                                 Restaurants, French     en  \n",
              "10                                Restaurants, French     en  \n",
              "11                                Restaurants, French     en  \n",
              "12                                Restaurants, French     en  \n",
              "13                                Restaurants, French     en  \n",
              "14                                Restaurants, French     en  \n",
              "15                                Restaurants, French     en  \n",
              "16                                Restaurants, French     en  \n",
              "17                                Restaurants, French     en  \n",
              "18                                Restaurants, French     en  \n",
              "19                                Restaurants, French     en  "
            ],
            "text/html": [
              "\n",
              "  <div id=\"df-ff5270fd-2e63-4051-aa10-f4be452d508e\">\n",
              "    <div class=\"colab-df-container\">\n",
              "      <div>\n",
              "<style scoped>\n",
              "    .dataframe tbody tr th:only-of-type {\n",
              "        vertical-align: middle;\n",
              "    }\n",
              "\n",
              "    .dataframe tbody tr th {\n",
              "        vertical-align: top;\n",
              "    }\n",
              "\n",
              "    .dataframe thead th {\n",
              "        text-align: right;\n",
              "    }\n",
              "</style>\n",
              "<table border=\"1\" class=\"dataframe\">\n",
              "  <thead>\n",
              "    <tr style=\"text-align: right;\">\n",
              "      <th></th>\n",
              "      <th>stars</th>\n",
              "      <th>restaurant_reviews</th>\n",
              "      <th>categories</th>\n",
              "      <th>detect</th>\n",
              "    </tr>\n",
              "  </thead>\n",
              "  <tbody>\n",
              "    <tr>\n",
              "      <th>0</th>\n",
              "      <td>4</td>\n",
              "      <td>Apparently Prides Osteria had a rough summer a...</td>\n",
              "      <td>Restaurants, Wine Bars, Nightlife, Farmers Mar...</td>\n",
              "      <td>en</td>\n",
              "    </tr>\n",
              "    <tr>\n",
              "      <th>1</th>\n",
              "      <td>2</td>\n",
              "      <td>I was really disappointed to say the least. I ...</td>\n",
              "      <td>Restaurants, Wine Bars, Nightlife, Farmers Mar...</td>\n",
              "      <td>en</td>\n",
              "    </tr>\n",
              "    <tr>\n",
              "      <th>2</th>\n",
              "      <td>5</td>\n",
              "      <td>This is as close to dining in Italy as you'll ...</td>\n",
              "      <td>Restaurants, Wine Bars, Nightlife, Farmers Mar...</td>\n",
              "      <td>en</td>\n",
              "    </tr>\n",
              "    <tr>\n",
              "      <th>3</th>\n",
              "      <td>5</td>\n",
              "      <td>Great food and service! Again. 4 out of the la...</td>\n",
              "      <td>Restaurants, Wine Bars, Nightlife, Farmers Mar...</td>\n",
              "      <td>en</td>\n",
              "    </tr>\n",
              "    <tr>\n",
              "      <th>4</th>\n",
              "      <td>2</td>\n",
              "      <td>I've stayed at many Marriott and Renaissance M...</td>\n",
              "      <td>Hotels, Hotels &amp; Travel, Restaurants, Event Pl...</td>\n",
              "      <td>en</td>\n",
              "    </tr>\n",
              "    <tr>\n",
              "      <th>5</th>\n",
              "      <td>4</td>\n",
              "      <td>I was a there for a professional conference. s...</td>\n",
              "      <td>Hotels, Hotels &amp; Travel, Restaurants, Event Pl...</td>\n",
              "      <td>en</td>\n",
              "    </tr>\n",
              "    <tr>\n",
              "      <th>6</th>\n",
              "      <td>4</td>\n",
              "      <td>I stayed for five nights this past April with ...</td>\n",
              "      <td>Hotels, Hotels &amp; Travel, Restaurants, Event Pl...</td>\n",
              "      <td>en</td>\n",
              "    </tr>\n",
              "    <tr>\n",
              "      <th>7</th>\n",
              "      <td>4</td>\n",
              "      <td>I stayed here recently for a conference I was ...</td>\n",
              "      <td>Hotels, Hotels &amp; Travel, Restaurants, Event Pl...</td>\n",
              "      <td>en</td>\n",
              "    </tr>\n",
              "    <tr>\n",
              "      <th>8</th>\n",
              "      <td>4</td>\n",
              "      <td>The food is always great here. The service fro...</td>\n",
              "      <td>Restaurants, French</td>\n",
              "      <td>en</td>\n",
              "    </tr>\n",
              "    <tr>\n",
              "      <th>9</th>\n",
              "      <td>2</td>\n",
              "      <td>Brasserie zero zero... we were hoping for a te...</td>\n",
              "      <td>Restaurants, French</td>\n",
              "      <td>en</td>\n",
              "    </tr>\n",
              "    <tr>\n",
              "      <th>10</th>\n",
              "      <td>5</td>\n",
              "      <td>I absolutely love this restaurant. I've been c...</td>\n",
              "      <td>Restaurants, French</td>\n",
              "      <td>en</td>\n",
              "    </tr>\n",
              "    <tr>\n",
              "      <th>11</th>\n",
              "      <td>5</td>\n",
              "      <td>The food is great!  One of my fav brunch spots...</td>\n",
              "      <td>Restaurants, French</td>\n",
              "      <td>en</td>\n",
              "    </tr>\n",
              "    <tr>\n",
              "      <th>12</th>\n",
              "      <td>5</td>\n",
              "      <td>Went here for dinner in day two of our trip. I...</td>\n",
              "      <td>Restaurants, French</td>\n",
              "      <td>en</td>\n",
              "    </tr>\n",
              "    <tr>\n",
              "      <th>13</th>\n",
              "      <td>5</td>\n",
              "      <td>Food: 4.0 of 5.0\\nService: 5.0 of 5.0\\nEnviron...</td>\n",
              "      <td>Restaurants, French</td>\n",
              "      <td>en</td>\n",
              "    </tr>\n",
              "    <tr>\n",
              "      <th>14</th>\n",
              "      <td>4</td>\n",
              "      <td>one of the staples in boulder.  fabulous space...</td>\n",
              "      <td>Restaurants, French</td>\n",
              "      <td>en</td>\n",
              "    </tr>\n",
              "    <tr>\n",
              "      <th>15</th>\n",
              "      <td>5</td>\n",
              "      <td>Wow. Best service I have ever had. Slight wait...</td>\n",
              "      <td>Restaurants, French</td>\n",
              "      <td>en</td>\n",
              "    </tr>\n",
              "    <tr>\n",
              "      <th>16</th>\n",
              "      <td>4</td>\n",
              "      <td>I'm giving four stars because the service was ...</td>\n",
              "      <td>Restaurants, French</td>\n",
              "      <td>en</td>\n",
              "    </tr>\n",
              "    <tr>\n",
              "      <th>17</th>\n",
              "      <td>5</td>\n",
              "      <td>I had the duck, the fromage special, and the m...</td>\n",
              "      <td>Restaurants, French</td>\n",
              "      <td>en</td>\n",
              "    </tr>\n",
              "    <tr>\n",
              "      <th>18</th>\n",
              "      <td>4</td>\n",
              "      <td>Better than I expected it to be.  To be fair, ...</td>\n",
              "      <td>Restaurants, French</td>\n",
              "      <td>en</td>\n",
              "    </tr>\n",
              "    <tr>\n",
              "      <th>19</th>\n",
              "      <td>5</td>\n",
              "      <td>I like this place! Every time I visit Boulder,...</td>\n",
              "      <td>Restaurants, French</td>\n",
              "      <td>en</td>\n",
              "    </tr>\n",
              "  </tbody>\n",
              "</table>\n",
              "</div>\n",
              "      <button class=\"colab-df-convert\" onclick=\"convertToInteractive('df-ff5270fd-2e63-4051-aa10-f4be452d508e')\"\n",
              "              title=\"Convert this dataframe to an interactive table.\"\n",
              "              style=\"display:none;\">\n",
              "        \n",
              "  <svg xmlns=\"http://www.w3.org/2000/svg\" height=\"24px\"viewBox=\"0 0 24 24\"\n",
              "       width=\"24px\">\n",
              "    <path d=\"M0 0h24v24H0V0z\" fill=\"none\"/>\n",
              "    <path d=\"M18.56 5.44l.94 2.06.94-2.06 2.06-.94-2.06-.94-.94-2.06-.94 2.06-2.06.94zm-11 1L8.5 8.5l.94-2.06 2.06-.94-2.06-.94L8.5 2.5l-.94 2.06-2.06.94zm10 10l.94 2.06.94-2.06 2.06-.94-2.06-.94-.94-2.06-.94 2.06-2.06.94z\"/><path d=\"M17.41 7.96l-1.37-1.37c-.4-.4-.92-.59-1.43-.59-.52 0-1.04.2-1.43.59L10.3 9.45l-7.72 7.72c-.78.78-.78 2.05 0 2.83L4 21.41c.39.39.9.59 1.41.59.51 0 1.02-.2 1.41-.59l7.78-7.78 2.81-2.81c.8-.78.8-2.07 0-2.86zM5.41 20L4 18.59l7.72-7.72 1.47 1.35L5.41 20z\"/>\n",
              "  </svg>\n",
              "      </button>\n",
              "      \n",
              "  <style>\n",
              "    .colab-df-container {\n",
              "      display:flex;\n",
              "      flex-wrap:wrap;\n",
              "      gap: 12px;\n",
              "    }\n",
              "\n",
              "    .colab-df-convert {\n",
              "      background-color: #E8F0FE;\n",
              "      border: none;\n",
              "      border-radius: 50%;\n",
              "      cursor: pointer;\n",
              "      display: none;\n",
              "      fill: #1967D2;\n",
              "      height: 32px;\n",
              "      padding: 0 0 0 0;\n",
              "      width: 32px;\n",
              "    }\n",
              "\n",
              "    .colab-df-convert:hover {\n",
              "      background-color: #E2EBFA;\n",
              "      box-shadow: 0px 1px 2px rgba(60, 64, 67, 0.3), 0px 1px 3px 1px rgba(60, 64, 67, 0.15);\n",
              "      fill: #174EA6;\n",
              "    }\n",
              "\n",
              "    [theme=dark] .colab-df-convert {\n",
              "      background-color: #3B4455;\n",
              "      fill: #D2E3FC;\n",
              "    }\n",
              "\n",
              "    [theme=dark] .colab-df-convert:hover {\n",
              "      background-color: #434B5C;\n",
              "      box-shadow: 0px 1px 3px 1px rgba(0, 0, 0, 0.15);\n",
              "      filter: drop-shadow(0px 1px 2px rgba(0, 0, 0, 0.3));\n",
              "      fill: #FFFFFF;\n",
              "    }\n",
              "  </style>\n",
              "\n",
              "      <script>\n",
              "        const buttonEl =\n",
              "          document.querySelector('#df-ff5270fd-2e63-4051-aa10-f4be452d508e button.colab-df-convert');\n",
              "        buttonEl.style.display =\n",
              "          google.colab.kernel.accessAllowed ? 'block' : 'none';\n",
              "\n",
              "        async function convertToInteractive(key) {\n",
              "          const element = document.querySelector('#df-ff5270fd-2e63-4051-aa10-f4be452d508e');\n",
              "          const dataTable =\n",
              "            await google.colab.kernel.invokeFunction('convertToInteractive',\n",
              "                                                     [key], {});\n",
              "          if (!dataTable) return;\n",
              "\n",
              "          const docLinkHtml = 'Like what you see? Visit the ' +\n",
              "            '<a target=\"_blank\" href=https://colab.research.google.com/notebooks/data_table.ipynb>data table notebook</a>'\n",
              "            + ' to learn more about interactive tables.';\n",
              "          element.innerHTML = '';\n",
              "          dataTable['output_type'] = 'display_data';\n",
              "          await google.colab.output.renderOutput(dataTable, element);\n",
              "          const docLink = document.createElement('div');\n",
              "          docLink.innerHTML = docLinkHtml;\n",
              "          element.appendChild(docLink);\n",
              "        }\n",
              "      </script>\n",
              "    </div>\n",
              "  </div>\n",
              "  "
            ]
          },
          "metadata": {},
          "execution_count": 22
        }
      ]
    },
    {
      "cell_type": "markdown",
      "source": [
        "#### **Label** reviews as **positive** - **1** (4 and 5 stars) - or **negative** - **0** (1 and 2 stars) - and after that **remove** the **\"stars\" column**, it is not needed anymore"
      ],
      "metadata": {
        "id": "lXOtX5Ih6q6G"
      }
    },
    {
      "cell_type": "code",
      "source": [
        "df_final.loc[df_final['stars'] < 3, 'sentiment'] = 0 \n",
        "df_final.loc[df_final['stars'] > 3, 'sentiment'] = 1\n",
        "df_final.drop('stars', axis=1, inplace=True)\n",
        "df_final.head(10)"
      ],
      "metadata": {
        "id": "vOH0Cqr7P6JB",
        "colab": {
          "base_uri": "https://localhost:8080/",
          "height": 363
        },
        "outputId": "0dae0071-ab7c-420e-d782-7992a92a9840"
      },
      "execution_count": null,
      "outputs": [
        {
          "output_type": "execute_result",
          "data": {
            "text/plain": [
              "                                  restaurant_reviews  \\\n",
              "0  Apparently Prides Osteria had a rough summer a...   \n",
              "1  I was really disappointed to say the least. I ...   \n",
              "2  This is as close to dining in Italy as you'll ...   \n",
              "3  Great food and service! Again. 4 out of the la...   \n",
              "4  I've stayed at many Marriott and Renaissance M...   \n",
              "5  I was a there for a professional conference. s...   \n",
              "6  I stayed for five nights this past April with ...   \n",
              "7  I stayed here recently for a conference I was ...   \n",
              "8  The food is always great here. The service fro...   \n",
              "9  Brasserie zero zero... we were hoping for a te...   \n",
              "\n",
              "                                          categories detect  sentiment  \n",
              "0  Restaurants, Wine Bars, Nightlife, Farmers Mar...     en        1.0  \n",
              "1  Restaurants, Wine Bars, Nightlife, Farmers Mar...     en        0.0  \n",
              "2  Restaurants, Wine Bars, Nightlife, Farmers Mar...     en        1.0  \n",
              "3  Restaurants, Wine Bars, Nightlife, Farmers Mar...     en        1.0  \n",
              "4  Hotels, Hotels & Travel, Restaurants, Event Pl...     en        0.0  \n",
              "5  Hotels, Hotels & Travel, Restaurants, Event Pl...     en        1.0  \n",
              "6  Hotels, Hotels & Travel, Restaurants, Event Pl...     en        1.0  \n",
              "7  Hotels, Hotels & Travel, Restaurants, Event Pl...     en        1.0  \n",
              "8                                Restaurants, French     en        1.0  \n",
              "9                                Restaurants, French     en        0.0  "
            ],
            "text/html": [
              "\n",
              "  <div id=\"df-afa6609b-6101-42f5-b4d0-1ad4dc3f0fca\">\n",
              "    <div class=\"colab-df-container\">\n",
              "      <div>\n",
              "<style scoped>\n",
              "    .dataframe tbody tr th:only-of-type {\n",
              "        vertical-align: middle;\n",
              "    }\n",
              "\n",
              "    .dataframe tbody tr th {\n",
              "        vertical-align: top;\n",
              "    }\n",
              "\n",
              "    .dataframe thead th {\n",
              "        text-align: right;\n",
              "    }\n",
              "</style>\n",
              "<table border=\"1\" class=\"dataframe\">\n",
              "  <thead>\n",
              "    <tr style=\"text-align: right;\">\n",
              "      <th></th>\n",
              "      <th>restaurant_reviews</th>\n",
              "      <th>categories</th>\n",
              "      <th>detect</th>\n",
              "      <th>sentiment</th>\n",
              "    </tr>\n",
              "  </thead>\n",
              "  <tbody>\n",
              "    <tr>\n",
              "      <th>0</th>\n",
              "      <td>Apparently Prides Osteria had a rough summer a...</td>\n",
              "      <td>Restaurants, Wine Bars, Nightlife, Farmers Mar...</td>\n",
              "      <td>en</td>\n",
              "      <td>1.0</td>\n",
              "    </tr>\n",
              "    <tr>\n",
              "      <th>1</th>\n",
              "      <td>I was really disappointed to say the least. I ...</td>\n",
              "      <td>Restaurants, Wine Bars, Nightlife, Farmers Mar...</td>\n",
              "      <td>en</td>\n",
              "      <td>0.0</td>\n",
              "    </tr>\n",
              "    <tr>\n",
              "      <th>2</th>\n",
              "      <td>This is as close to dining in Italy as you'll ...</td>\n",
              "      <td>Restaurants, Wine Bars, Nightlife, Farmers Mar...</td>\n",
              "      <td>en</td>\n",
              "      <td>1.0</td>\n",
              "    </tr>\n",
              "    <tr>\n",
              "      <th>3</th>\n",
              "      <td>Great food and service! Again. 4 out of the la...</td>\n",
              "      <td>Restaurants, Wine Bars, Nightlife, Farmers Mar...</td>\n",
              "      <td>en</td>\n",
              "      <td>1.0</td>\n",
              "    </tr>\n",
              "    <tr>\n",
              "      <th>4</th>\n",
              "      <td>I've stayed at many Marriott and Renaissance M...</td>\n",
              "      <td>Hotels, Hotels &amp; Travel, Restaurants, Event Pl...</td>\n",
              "      <td>en</td>\n",
              "      <td>0.0</td>\n",
              "    </tr>\n",
              "    <tr>\n",
              "      <th>5</th>\n",
              "      <td>I was a there for a professional conference. s...</td>\n",
              "      <td>Hotels, Hotels &amp; Travel, Restaurants, Event Pl...</td>\n",
              "      <td>en</td>\n",
              "      <td>1.0</td>\n",
              "    </tr>\n",
              "    <tr>\n",
              "      <th>6</th>\n",
              "      <td>I stayed for five nights this past April with ...</td>\n",
              "      <td>Hotels, Hotels &amp; Travel, Restaurants, Event Pl...</td>\n",
              "      <td>en</td>\n",
              "      <td>1.0</td>\n",
              "    </tr>\n",
              "    <tr>\n",
              "      <th>7</th>\n",
              "      <td>I stayed here recently for a conference I was ...</td>\n",
              "      <td>Hotels, Hotels &amp; Travel, Restaurants, Event Pl...</td>\n",
              "      <td>en</td>\n",
              "      <td>1.0</td>\n",
              "    </tr>\n",
              "    <tr>\n",
              "      <th>8</th>\n",
              "      <td>The food is always great here. The service fro...</td>\n",
              "      <td>Restaurants, French</td>\n",
              "      <td>en</td>\n",
              "      <td>1.0</td>\n",
              "    </tr>\n",
              "    <tr>\n",
              "      <th>9</th>\n",
              "      <td>Brasserie zero zero... we were hoping for a te...</td>\n",
              "      <td>Restaurants, French</td>\n",
              "      <td>en</td>\n",
              "      <td>0.0</td>\n",
              "    </tr>\n",
              "  </tbody>\n",
              "</table>\n",
              "</div>\n",
              "      <button class=\"colab-df-convert\" onclick=\"convertToInteractive('df-afa6609b-6101-42f5-b4d0-1ad4dc3f0fca')\"\n",
              "              title=\"Convert this dataframe to an interactive table.\"\n",
              "              style=\"display:none;\">\n",
              "        \n",
              "  <svg xmlns=\"http://www.w3.org/2000/svg\" height=\"24px\"viewBox=\"0 0 24 24\"\n",
              "       width=\"24px\">\n",
              "    <path d=\"M0 0h24v24H0V0z\" fill=\"none\"/>\n",
              "    <path d=\"M18.56 5.44l.94 2.06.94-2.06 2.06-.94-2.06-.94-.94-2.06-.94 2.06-2.06.94zm-11 1L8.5 8.5l.94-2.06 2.06-.94-2.06-.94L8.5 2.5l-.94 2.06-2.06.94zm10 10l.94 2.06.94-2.06 2.06-.94-2.06-.94-.94-2.06-.94 2.06-2.06.94z\"/><path d=\"M17.41 7.96l-1.37-1.37c-.4-.4-.92-.59-1.43-.59-.52 0-1.04.2-1.43.59L10.3 9.45l-7.72 7.72c-.78.78-.78 2.05 0 2.83L4 21.41c.39.39.9.59 1.41.59.51 0 1.02-.2 1.41-.59l7.78-7.78 2.81-2.81c.8-.78.8-2.07 0-2.86zM5.41 20L4 18.59l7.72-7.72 1.47 1.35L5.41 20z\"/>\n",
              "  </svg>\n",
              "      </button>\n",
              "      \n",
              "  <style>\n",
              "    .colab-df-container {\n",
              "      display:flex;\n",
              "      flex-wrap:wrap;\n",
              "      gap: 12px;\n",
              "    }\n",
              "\n",
              "    .colab-df-convert {\n",
              "      background-color: #E8F0FE;\n",
              "      border: none;\n",
              "      border-radius: 50%;\n",
              "      cursor: pointer;\n",
              "      display: none;\n",
              "      fill: #1967D2;\n",
              "      height: 32px;\n",
              "      padding: 0 0 0 0;\n",
              "      width: 32px;\n",
              "    }\n",
              "\n",
              "    .colab-df-convert:hover {\n",
              "      background-color: #E2EBFA;\n",
              "      box-shadow: 0px 1px 2px rgba(60, 64, 67, 0.3), 0px 1px 3px 1px rgba(60, 64, 67, 0.15);\n",
              "      fill: #174EA6;\n",
              "    }\n",
              "\n",
              "    [theme=dark] .colab-df-convert {\n",
              "      background-color: #3B4455;\n",
              "      fill: #D2E3FC;\n",
              "    }\n",
              "\n",
              "    [theme=dark] .colab-df-convert:hover {\n",
              "      background-color: #434B5C;\n",
              "      box-shadow: 0px 1px 3px 1px rgba(0, 0, 0, 0.15);\n",
              "      filter: drop-shadow(0px 1px 2px rgba(0, 0, 0, 0.3));\n",
              "      fill: #FFFFFF;\n",
              "    }\n",
              "  </style>\n",
              "\n",
              "      <script>\n",
              "        const buttonEl =\n",
              "          document.querySelector('#df-afa6609b-6101-42f5-b4d0-1ad4dc3f0fca button.colab-df-convert');\n",
              "        buttonEl.style.display =\n",
              "          google.colab.kernel.accessAllowed ? 'block' : 'none';\n",
              "\n",
              "        async function convertToInteractive(key) {\n",
              "          const element = document.querySelector('#df-afa6609b-6101-42f5-b4d0-1ad4dc3f0fca');\n",
              "          const dataTable =\n",
              "            await google.colab.kernel.invokeFunction('convertToInteractive',\n",
              "                                                     [key], {});\n",
              "          if (!dataTable) return;\n",
              "\n",
              "          const docLinkHtml = 'Like what you see? Visit the ' +\n",
              "            '<a target=\"_blank\" href=https://colab.research.google.com/notebooks/data_table.ipynb>data table notebook</a>'\n",
              "            + ' to learn more about interactive tables.';\n",
              "          element.innerHTML = '';\n",
              "          dataTable['output_type'] = 'display_data';\n",
              "          await google.colab.output.renderOutput(dataTable, element);\n",
              "          const docLink = document.createElement('div');\n",
              "          docLink.innerHTML = docLinkHtml;\n",
              "          element.appendChild(docLink);\n",
              "        }\n",
              "      </script>\n",
              "    </div>\n",
              "  </div>\n",
              "  "
            ]
          },
          "metadata": {},
          "execution_count": 23
        }
      ]
    },
    {
      "cell_type": "markdown",
      "source": [
        "#### **Stopwords** with **spaCy**. As **'no'** and **'not'** are **important** words to describe an opinion about a restaurant (e.g. not cheap, not a good service, no napkins available, etc.), we should, at least, **remove** those two words from the **stopwords**. "
      ],
      "metadata": {
        "id": "41D8LX1G96cr"
      }
    },
    {
      "cell_type": "code",
      "source": [
        "sp = spacy.load('en_core_web_sm')\n",
        "stopwords = sp.Defaults.stop_words\n",
        "\n",
        "exclude_stopwords = ['no','not']\n",
        "for word in exclude_stopwords:\n",
        "    stopwords.remove(word)"
      ],
      "metadata": {
        "id": "etpLEPQhNIEt"
      },
      "execution_count": null,
      "outputs": []
    },
    {
      "cell_type": "markdown",
      "source": [
        "#### **UDF** to **remove non-letters**, convert to **lower case**, **tokenize**  with **NLTK** and **remove** the **spaCy stopwords** from the restaurant reviews:"
      ],
      "metadata": {
        "id": "r-NyXi1FBx19"
      }
    },
    {
      "cell_type": "code",
      "source": [
        "# The input is a single string (a raw restaurant review), and the output is a single string (a preprocessed restaurant review)\n",
        "\n",
        "def text_preprocessing( raw_review ):\n",
        "    # 1. Remove non-letters \n",
        "    review_text_letters_only = re.sub(\"[^a-zA-Z]\", \" \", raw_review)\n",
        "    # 2. Convert to lower case\n",
        "    review_preprocessed = review_text_letters_only.lower()\n",
        "    # 3. Word tokenization\n",
        "    review_tokens = word_tokenize(review_preprocessed)\n",
        "    # 4. Only words with more than one letter\n",
        "    review_tokens_len = [w for w in review_tokens if len(w) > 1]\n",
        "    # 5. Filter the stopwords\n",
        "    filtered_sentence =[] \n",
        "    for word in review_tokens_len:\n",
        "        lexeme = sp.vocab[word]\n",
        "        if lexeme.is_stop == False:\n",
        "            filtered_sentence.append(word)\n",
        "\n",
        "    return \" \".join(filtered_sentence)"
      ],
      "metadata": {
        "id": "LP9Sw3OCWmRA"
      },
      "execution_count": null,
      "outputs": []
    },
    {
      "cell_type": "markdown",
      "source": [
        "#### **Apply** the above **UDF** to the **entire** 'restaurant_reviews' column, **creating** a **new column** named **'cleaned_reviews'**"
      ],
      "metadata": {
        "id": "3I8RB3bvEfWN"
      }
    },
    {
      "cell_type": "code",
      "source": [
        "df_final['cleaned_reviews'] = df_final['restaurant_reviews'].apply(text_preprocessing) "
      ],
      "metadata": {
        "id": "qXw3rx3Nv6-Z"
      },
      "execution_count": null,
      "outputs": []
    },
    {
      "cell_type": "code",
      "source": [
        "columns_to_drop = ['restaurant_reviews', 'categories', 'detect']\n",
        "df_final.drop(columns_to_drop, axis=1, inplace=True)"
      ],
      "metadata": {
        "id": "rqbySS2Tt9sr"
      },
      "execution_count": null,
      "outputs": []
    },
    {
      "cell_type": "code",
      "source": [
        "df = df_final.reset_index(drop=True)"
      ],
      "metadata": {
        "id": "e-rhvEFtQ3NB"
      },
      "execution_count": null,
      "outputs": []
    },
    {
      "cell_type": "code",
      "source": [
        "df.head()"
      ],
      "metadata": {
        "id": "ErBRfSycQ3Tj",
        "colab": {
          "base_uri": "https://localhost:8080/",
          "height": 206
        },
        "outputId": "83139542-1dc4-4327-8f40-d9931218c914"
      },
      "execution_count": null,
      "outputs": [
        {
          "output_type": "execute_result",
          "data": {
            "text/plain": [
              "   sentiment                                    cleaned_reviews\n",
              "0        1.0  apparently prides osteria rough summer evidenc...\n",
              "1        0.0  disappointed saw great yelp reviews great ones...\n",
              "2        1.0  close dining italy ll find new england chef pa...\n",
              "3        1.0  great food service weeks great time tuesday we...\n",
              "4        0.0  ve stayed marriott renaissance marriott huge d..."
            ],
            "text/html": [
              "\n",
              "  <div id=\"df-bee84cbc-e57e-49b9-a7a8-ad76a8ef3ac1\">\n",
              "    <div class=\"colab-df-container\">\n",
              "      <div>\n",
              "<style scoped>\n",
              "    .dataframe tbody tr th:only-of-type {\n",
              "        vertical-align: middle;\n",
              "    }\n",
              "\n",
              "    .dataframe tbody tr th {\n",
              "        vertical-align: top;\n",
              "    }\n",
              "\n",
              "    .dataframe thead th {\n",
              "        text-align: right;\n",
              "    }\n",
              "</style>\n",
              "<table border=\"1\" class=\"dataframe\">\n",
              "  <thead>\n",
              "    <tr style=\"text-align: right;\">\n",
              "      <th></th>\n",
              "      <th>sentiment</th>\n",
              "      <th>cleaned_reviews</th>\n",
              "    </tr>\n",
              "  </thead>\n",
              "  <tbody>\n",
              "    <tr>\n",
              "      <th>0</th>\n",
              "      <td>1.0</td>\n",
              "      <td>apparently prides osteria rough summer evidenc...</td>\n",
              "    </tr>\n",
              "    <tr>\n",
              "      <th>1</th>\n",
              "      <td>0.0</td>\n",
              "      <td>disappointed saw great yelp reviews great ones...</td>\n",
              "    </tr>\n",
              "    <tr>\n",
              "      <th>2</th>\n",
              "      <td>1.0</td>\n",
              "      <td>close dining italy ll find new england chef pa...</td>\n",
              "    </tr>\n",
              "    <tr>\n",
              "      <th>3</th>\n",
              "      <td>1.0</td>\n",
              "      <td>great food service weeks great time tuesday we...</td>\n",
              "    </tr>\n",
              "    <tr>\n",
              "      <th>4</th>\n",
              "      <td>0.0</td>\n",
              "      <td>ve stayed marriott renaissance marriott huge d...</td>\n",
              "    </tr>\n",
              "  </tbody>\n",
              "</table>\n",
              "</div>\n",
              "      <button class=\"colab-df-convert\" onclick=\"convertToInteractive('df-bee84cbc-e57e-49b9-a7a8-ad76a8ef3ac1')\"\n",
              "              title=\"Convert this dataframe to an interactive table.\"\n",
              "              style=\"display:none;\">\n",
              "        \n",
              "  <svg xmlns=\"http://www.w3.org/2000/svg\" height=\"24px\"viewBox=\"0 0 24 24\"\n",
              "       width=\"24px\">\n",
              "    <path d=\"M0 0h24v24H0V0z\" fill=\"none\"/>\n",
              "    <path d=\"M18.56 5.44l.94 2.06.94-2.06 2.06-.94-2.06-.94-.94-2.06-.94 2.06-2.06.94zm-11 1L8.5 8.5l.94-2.06 2.06-.94-2.06-.94L8.5 2.5l-.94 2.06-2.06.94zm10 10l.94 2.06.94-2.06 2.06-.94-2.06-.94-.94-2.06-.94 2.06-2.06.94z\"/><path d=\"M17.41 7.96l-1.37-1.37c-.4-.4-.92-.59-1.43-.59-.52 0-1.04.2-1.43.59L10.3 9.45l-7.72 7.72c-.78.78-.78 2.05 0 2.83L4 21.41c.39.39.9.59 1.41.59.51 0 1.02-.2 1.41-.59l7.78-7.78 2.81-2.81c.8-.78.8-2.07 0-2.86zM5.41 20L4 18.59l7.72-7.72 1.47 1.35L5.41 20z\"/>\n",
              "  </svg>\n",
              "      </button>\n",
              "      \n",
              "  <style>\n",
              "    .colab-df-container {\n",
              "      display:flex;\n",
              "      flex-wrap:wrap;\n",
              "      gap: 12px;\n",
              "    }\n",
              "\n",
              "    .colab-df-convert {\n",
              "      background-color: #E8F0FE;\n",
              "      border: none;\n",
              "      border-radius: 50%;\n",
              "      cursor: pointer;\n",
              "      display: none;\n",
              "      fill: #1967D2;\n",
              "      height: 32px;\n",
              "      padding: 0 0 0 0;\n",
              "      width: 32px;\n",
              "    }\n",
              "\n",
              "    .colab-df-convert:hover {\n",
              "      background-color: #E2EBFA;\n",
              "      box-shadow: 0px 1px 2px rgba(60, 64, 67, 0.3), 0px 1px 3px 1px rgba(60, 64, 67, 0.15);\n",
              "      fill: #174EA6;\n",
              "    }\n",
              "\n",
              "    [theme=dark] .colab-df-convert {\n",
              "      background-color: #3B4455;\n",
              "      fill: #D2E3FC;\n",
              "    }\n",
              "\n",
              "    [theme=dark] .colab-df-convert:hover {\n",
              "      background-color: #434B5C;\n",
              "      box-shadow: 0px 1px 3px 1px rgba(0, 0, 0, 0.15);\n",
              "      filter: drop-shadow(0px 1px 2px rgba(0, 0, 0, 0.3));\n",
              "      fill: #FFFFFF;\n",
              "    }\n",
              "  </style>\n",
              "\n",
              "      <script>\n",
              "        const buttonEl =\n",
              "          document.querySelector('#df-bee84cbc-e57e-49b9-a7a8-ad76a8ef3ac1 button.colab-df-convert');\n",
              "        buttonEl.style.display =\n",
              "          google.colab.kernel.accessAllowed ? 'block' : 'none';\n",
              "\n",
              "        async function convertToInteractive(key) {\n",
              "          const element = document.querySelector('#df-bee84cbc-e57e-49b9-a7a8-ad76a8ef3ac1');\n",
              "          const dataTable =\n",
              "            await google.colab.kernel.invokeFunction('convertToInteractive',\n",
              "                                                     [key], {});\n",
              "          if (!dataTable) return;\n",
              "\n",
              "          const docLinkHtml = 'Like what you see? Visit the ' +\n",
              "            '<a target=\"_blank\" href=https://colab.research.google.com/notebooks/data_table.ipynb>data table notebook</a>'\n",
              "            + ' to learn more about interactive tables.';\n",
              "          element.innerHTML = '';\n",
              "          dataTable['output_type'] = 'display_data';\n",
              "          await google.colab.output.renderOutput(dataTable, element);\n",
              "          const docLink = document.createElement('div');\n",
              "          docLink.innerHTML = docLinkHtml;\n",
              "          element.appendChild(docLink);\n",
              "        }\n",
              "      </script>\n",
              "    </div>\n",
              "  </div>\n",
              "  "
            ]
          },
          "metadata": {},
          "execution_count": 29
        }
      ]
    },
    {
      "cell_type": "markdown",
      "source": [
        "### **2 - Sentiment analysis with TextBlob**\n",
        "- - - "
      ],
      "metadata": {
        "id": "lDqcuhBPvi3i"
      }
    },
    {
      "cell_type": "markdown",
      "source": [
        "- When we use **TextBlob** to **calculate** the **sentiment** of a **text**, we get **numeric values for polarity and subjectivity**. The **polarity numeric number indicates how negative or positive a sentence is**. Subjectivity, on the other hand, refers to how objective or subjective a text is. \n",
        "<br><br>\n",
        "- Let's **calculate only** the **polarity** of each of the '**cleaned reviews**':"
      ],
      "metadata": {
        "id": "8eSlAtQhvq2L"
      }
    },
    {
      "cell_type": "code",
      "source": [
        "def detect_polarity(cleaned_reviews):\n",
        "    return TextBlob(cleaned_reviews).sentiment.polarity"
      ],
      "metadata": {
        "id": "JcFJZpl6vQCt"
      },
      "execution_count": null,
      "outputs": []
    },
    {
      "cell_type": "code",
      "source": [
        "df_final['polarity'] = df_final.cleaned_reviews.apply(detect_polarity)"
      ],
      "metadata": {
        "id": "pi_7k_KavQHP"
      },
      "execution_count": null,
      "outputs": []
    },
    {
      "cell_type": "code",
      "source": [
        "df_final.head()"
      ],
      "metadata": {
        "colab": {
          "base_uri": "https://localhost:8080/",
          "height": 206
        },
        "id": "l2eVHNwxvyWQ",
        "outputId": "ed3d9282-35ee-460b-a80a-96d79fb53c48"
      },
      "execution_count": null,
      "outputs": [
        {
          "output_type": "execute_result",
          "data": {
            "text/plain": [
              "   sentiment                                    cleaned_reviews  polarity\n",
              "0        1.0  apparently prides osteria rough summer evidenc...  0.166361\n",
              "1        0.0  disappointed saw great yelp reviews great ones...  0.129482\n",
              "2        1.0  close dining italy ll find new england chef pa...  0.308838\n",
              "3        1.0  great food service weeks great time tuesday we...  0.637143\n",
              "4        0.0  ve stayed marriott renaissance marriott huge d...  0.225000"
            ],
            "text/html": [
              "\n",
              "  <div id=\"df-1829d5ec-5adb-4607-a60c-8c4ad2563d6a\">\n",
              "    <div class=\"colab-df-container\">\n",
              "      <div>\n",
              "<style scoped>\n",
              "    .dataframe tbody tr th:only-of-type {\n",
              "        vertical-align: middle;\n",
              "    }\n",
              "\n",
              "    .dataframe tbody tr th {\n",
              "        vertical-align: top;\n",
              "    }\n",
              "\n",
              "    .dataframe thead th {\n",
              "        text-align: right;\n",
              "    }\n",
              "</style>\n",
              "<table border=\"1\" class=\"dataframe\">\n",
              "  <thead>\n",
              "    <tr style=\"text-align: right;\">\n",
              "      <th></th>\n",
              "      <th>sentiment</th>\n",
              "      <th>cleaned_reviews</th>\n",
              "      <th>polarity</th>\n",
              "    </tr>\n",
              "  </thead>\n",
              "  <tbody>\n",
              "    <tr>\n",
              "      <th>0</th>\n",
              "      <td>1.0</td>\n",
              "      <td>apparently prides osteria rough summer evidenc...</td>\n",
              "      <td>0.166361</td>\n",
              "    </tr>\n",
              "    <tr>\n",
              "      <th>1</th>\n",
              "      <td>0.0</td>\n",
              "      <td>disappointed saw great yelp reviews great ones...</td>\n",
              "      <td>0.129482</td>\n",
              "    </tr>\n",
              "    <tr>\n",
              "      <th>2</th>\n",
              "      <td>1.0</td>\n",
              "      <td>close dining italy ll find new england chef pa...</td>\n",
              "      <td>0.308838</td>\n",
              "    </tr>\n",
              "    <tr>\n",
              "      <th>3</th>\n",
              "      <td>1.0</td>\n",
              "      <td>great food service weeks great time tuesday we...</td>\n",
              "      <td>0.637143</td>\n",
              "    </tr>\n",
              "    <tr>\n",
              "      <th>4</th>\n",
              "      <td>0.0</td>\n",
              "      <td>ve stayed marriott renaissance marriott huge d...</td>\n",
              "      <td>0.225000</td>\n",
              "    </tr>\n",
              "  </tbody>\n",
              "</table>\n",
              "</div>\n",
              "      <button class=\"colab-df-convert\" onclick=\"convertToInteractive('df-1829d5ec-5adb-4607-a60c-8c4ad2563d6a')\"\n",
              "              title=\"Convert this dataframe to an interactive table.\"\n",
              "              style=\"display:none;\">\n",
              "        \n",
              "  <svg xmlns=\"http://www.w3.org/2000/svg\" height=\"24px\"viewBox=\"0 0 24 24\"\n",
              "       width=\"24px\">\n",
              "    <path d=\"M0 0h24v24H0V0z\" fill=\"none\"/>\n",
              "    <path d=\"M18.56 5.44l.94 2.06.94-2.06 2.06-.94-2.06-.94-.94-2.06-.94 2.06-2.06.94zm-11 1L8.5 8.5l.94-2.06 2.06-.94-2.06-.94L8.5 2.5l-.94 2.06-2.06.94zm10 10l.94 2.06.94-2.06 2.06-.94-2.06-.94-.94-2.06-.94 2.06-2.06.94z\"/><path d=\"M17.41 7.96l-1.37-1.37c-.4-.4-.92-.59-1.43-.59-.52 0-1.04.2-1.43.59L10.3 9.45l-7.72 7.72c-.78.78-.78 2.05 0 2.83L4 21.41c.39.39.9.59 1.41.59.51 0 1.02-.2 1.41-.59l7.78-7.78 2.81-2.81c.8-.78.8-2.07 0-2.86zM5.41 20L4 18.59l7.72-7.72 1.47 1.35L5.41 20z\"/>\n",
              "  </svg>\n",
              "      </button>\n",
              "      \n",
              "  <style>\n",
              "    .colab-df-container {\n",
              "      display:flex;\n",
              "      flex-wrap:wrap;\n",
              "      gap: 12px;\n",
              "    }\n",
              "\n",
              "    .colab-df-convert {\n",
              "      background-color: #E8F0FE;\n",
              "      border: none;\n",
              "      border-radius: 50%;\n",
              "      cursor: pointer;\n",
              "      display: none;\n",
              "      fill: #1967D2;\n",
              "      height: 32px;\n",
              "      padding: 0 0 0 0;\n",
              "      width: 32px;\n",
              "    }\n",
              "\n",
              "    .colab-df-convert:hover {\n",
              "      background-color: #E2EBFA;\n",
              "      box-shadow: 0px 1px 2px rgba(60, 64, 67, 0.3), 0px 1px 3px 1px rgba(60, 64, 67, 0.15);\n",
              "      fill: #174EA6;\n",
              "    }\n",
              "\n",
              "    [theme=dark] .colab-df-convert {\n",
              "      background-color: #3B4455;\n",
              "      fill: #D2E3FC;\n",
              "    }\n",
              "\n",
              "    [theme=dark] .colab-df-convert:hover {\n",
              "      background-color: #434B5C;\n",
              "      box-shadow: 0px 1px 3px 1px rgba(0, 0, 0, 0.15);\n",
              "      filter: drop-shadow(0px 1px 2px rgba(0, 0, 0, 0.3));\n",
              "      fill: #FFFFFF;\n",
              "    }\n",
              "  </style>\n",
              "\n",
              "      <script>\n",
              "        const buttonEl =\n",
              "          document.querySelector('#df-1829d5ec-5adb-4607-a60c-8c4ad2563d6a button.colab-df-convert');\n",
              "        buttonEl.style.display =\n",
              "          google.colab.kernel.accessAllowed ? 'block' : 'none';\n",
              "\n",
              "        async function convertToInteractive(key) {\n",
              "          const element = document.querySelector('#df-1829d5ec-5adb-4607-a60c-8c4ad2563d6a');\n",
              "          const dataTable =\n",
              "            await google.colab.kernel.invokeFunction('convertToInteractive',\n",
              "                                                     [key], {});\n",
              "          if (!dataTable) return;\n",
              "\n",
              "          const docLinkHtml = 'Like what you see? Visit the ' +\n",
              "            '<a target=\"_blank\" href=https://colab.research.google.com/notebooks/data_table.ipynb>data table notebook</a>'\n",
              "            + ' to learn more about interactive tables.';\n",
              "          element.innerHTML = '';\n",
              "          dataTable['output_type'] = 'display_data';\n",
              "          await google.colab.output.renderOutput(dataTable, element);\n",
              "          const docLink = document.createElement('div');\n",
              "          docLink.innerHTML = docLinkHtml;\n",
              "          element.appendChild(docLink);\n",
              "        }\n",
              "      </script>\n",
              "    </div>\n",
              "  </div>\n",
              "  "
            ]
          },
          "metadata": {},
          "execution_count": 32
        }
      ]
    },
    {
      "cell_type": "markdown",
      "source": [
        "#### **Most common words** in **positive** and **negative reviews** "
      ],
      "metadata": {
        "id": "DCIrMz8EwewC"
      }
    },
    {
      "cell_type": "code",
      "source": [
        "def tokenize_text(text):\n",
        "    words = word_tokenize(text)\n",
        "    return words"
      ],
      "metadata": {
        "id": "ulfpFC9XwIqf"
      },
      "execution_count": null,
      "outputs": []
    },
    {
      "cell_type": "code",
      "source": [
        "df_final['lexicon_reviews'] = df_final['cleaned_reviews'].apply(tokenize_text) "
      ],
      "metadata": {
        "id": "Jqo3jp14wIus"
      },
      "execution_count": null,
      "outputs": []
    },
    {
      "cell_type": "code",
      "source": [
        "Positive_sent = df_final[df_final['sentiment']==1]\n",
        "Negative_sent = df_final[df_final['sentiment']==0]"
      ],
      "metadata": {
        "id": "w-NWLHu1wrQb"
      },
      "execution_count": null,
      "outputs": []
    },
    {
      "cell_type": "markdown",
      "source": [
        "- **Most common words** in **positive reviews**"
      ],
      "metadata": {
        "id": "kkb04H9ww5BU"
      }
    },
    {
      "cell_type": "code",
      "source": [
        "top = Counter([item for sublist in Positive_sent['lexicon_reviews'] for item in sublist])\n",
        "common_positive = pd.DataFrame(top.most_common(20))\n",
        "common_positive.columns = ['Most Common Words','count']\n",
        "common_positive.style.background_gradient(cmap='Greens')"
      ],
      "metadata": {
        "colab": {
          "base_uri": "https://localhost:8080/",
          "height": 676
        },
        "id": "EFthTlqRwrVN",
        "outputId": "e25b9fae-d82b-4b7f-f3b4-f79ee2cfd02a"
      },
      "execution_count": null,
      "outputs": [
        {
          "output_type": "execute_result",
          "data": {
            "text/plain": [
              "<pandas.io.formats.style.Styler at 0x7fe06bf9b9d0>"
            ],
            "text/html": [
              "<style type=\"text/css\">\n",
              "#T_2f277_row0_col1 {\n",
              "  background-color: #00441b;\n",
              "  color: #f1f1f1;\n",
              "}\n",
              "#T_2f277_row1_col1 {\n",
              "  background-color: #005c25;\n",
              "  color: #f1f1f1;\n",
              "}\n",
              "#T_2f277_row2_col1 {\n",
              "  background-color: #107a37;\n",
              "  color: #f1f1f1;\n",
              "}\n",
              "#T_2f277_row3_col1 {\n",
              "  background-color: #19833e;\n",
              "  color: #f1f1f1;\n",
              "}\n",
              "#T_2f277_row4_col1 {\n",
              "  background-color: #b1e0ab;\n",
              "  color: #000000;\n",
              "}\n",
              "#T_2f277_row5_col1 {\n",
              "  background-color: #bae3b3;\n",
              "  color: #000000;\n",
              "}\n",
              "#T_2f277_row6_col1 {\n",
              "  background-color: #d4eece;\n",
              "  color: #000000;\n",
              "}\n",
              "#T_2f277_row7_col1 {\n",
              "  background-color: #d5efcf;\n",
              "  color: #000000;\n",
              "}\n",
              "#T_2f277_row8_col1, #T_2f277_row9_col1 {\n",
              "  background-color: #e2f4dd;\n",
              "  color: #000000;\n",
              "}\n",
              "#T_2f277_row10_col1 {\n",
              "  background-color: #ebf7e7;\n",
              "  color: #000000;\n",
              "}\n",
              "#T_2f277_row11_col1 {\n",
              "  background-color: #eef8ea;\n",
              "  color: #000000;\n",
              "}\n",
              "#T_2f277_row12_col1 {\n",
              "  background-color: #eff9ec;\n",
              "  color: #000000;\n",
              "}\n",
              "#T_2f277_row13_col1 {\n",
              "  background-color: #f0f9ec;\n",
              "  color: #000000;\n",
              "}\n",
              "#T_2f277_row14_col1 {\n",
              "  background-color: #f1faee;\n",
              "  color: #000000;\n",
              "}\n",
              "#T_2f277_row15_col1 {\n",
              "  background-color: #f5fbf2;\n",
              "  color: #000000;\n",
              "}\n",
              "#T_2f277_row16_col1 {\n",
              "  background-color: #f5fbf3;\n",
              "  color: #000000;\n",
              "}\n",
              "#T_2f277_row17_col1, #T_2f277_row18_col1 {\n",
              "  background-color: #f6fcf4;\n",
              "  color: #000000;\n",
              "}\n",
              "#T_2f277_row19_col1 {\n",
              "  background-color: #f7fcf5;\n",
              "  color: #000000;\n",
              "}\n",
              "</style>\n",
              "<table id=\"T_2f277_\" class=\"dataframe\">\n",
              "  <thead>\n",
              "    <tr>\n",
              "      <th class=\"blank level0\" >&nbsp;</th>\n",
              "      <th class=\"col_heading level0 col0\" >Most Common Words</th>\n",
              "      <th class=\"col_heading level0 col1\" >count</th>\n",
              "    </tr>\n",
              "  </thead>\n",
              "  <tbody>\n",
              "    <tr>\n",
              "      <th id=\"T_2f277_level0_row0\" class=\"row_heading level0 row0\" >0</th>\n",
              "      <td id=\"T_2f277_row0_col0\" class=\"data row0 col0\" >food</td>\n",
              "      <td id=\"T_2f277_row0_col1\" class=\"data row0 col1\" >3101</td>\n",
              "    </tr>\n",
              "    <tr>\n",
              "      <th id=\"T_2f277_level0_row1\" class=\"row_heading level0 row1\" >1</th>\n",
              "      <td id=\"T_2f277_row1_col0\" class=\"data row1 col0\" >good</td>\n",
              "      <td id=\"T_2f277_row1_col1\" class=\"data row1 col1\" >2923</td>\n",
              "    </tr>\n",
              "    <tr>\n",
              "      <th id=\"T_2f277_level0_row2\" class=\"row_heading level0 row2\" >2</th>\n",
              "      <td id=\"T_2f277_row2_col0\" class=\"data row2 col0\" >place</td>\n",
              "      <td id=\"T_2f277_row2_col1\" class=\"data row2 col1\" >2674</td>\n",
              "    </tr>\n",
              "    <tr>\n",
              "      <th id=\"T_2f277_level0_row3\" class=\"row_heading level0 row3\" >3</th>\n",
              "      <td id=\"T_2f277_row3_col0\" class=\"data row3 col0\" >great</td>\n",
              "      <td id=\"T_2f277_row3_col1\" class=\"data row3 col1\" >2592</td>\n",
              "    </tr>\n",
              "    <tr>\n",
              "      <th id=\"T_2f277_level0_row4\" class=\"row_heading level0 row4\" >4</th>\n",
              "      <td id=\"T_2f277_row4_col0\" class=\"data row4 col0\" >service</td>\n",
              "      <td id=\"T_2f277_row4_col1\" class=\"data row4 col1\" >1507</td>\n",
              "    </tr>\n",
              "    <tr>\n",
              "      <th id=\"T_2f277_level0_row5\" class=\"row_heading level0 row5\" >5</th>\n",
              "      <td id=\"T_2f277_row5_col0\" class=\"data row5 col0\" >like</td>\n",
              "      <td id=\"T_2f277_row5_col1\" class=\"data row5 col1\" >1441</td>\n",
              "    </tr>\n",
              "    <tr>\n",
              "      <th id=\"T_2f277_level0_row6\" class=\"row_heading level0 row6\" >6</th>\n",
              "      <td id=\"T_2f277_row6_col0\" class=\"data row6 col0\" >time</td>\n",
              "      <td id=\"T_2f277_row6_col1\" class=\"data row6 col1\" >1213</td>\n",
              "    </tr>\n",
              "    <tr>\n",
              "      <th id=\"T_2f277_level0_row7\" class=\"row_heading level0 row7\" >7</th>\n",
              "      <td id=\"T_2f277_row7_col0\" class=\"data row7 col0\" >delicious</td>\n",
              "      <td id=\"T_2f277_row7_col1\" class=\"data row7 col1\" >1209</td>\n",
              "    </tr>\n",
              "    <tr>\n",
              "      <th id=\"T_2f277_level0_row8\" class=\"row_heading level0 row8\" >8</th>\n",
              "      <td id=\"T_2f277_row8_col0\" class=\"data row8 col0\" >ve</td>\n",
              "      <td id=\"T_2f277_row8_col1\" class=\"data row8 col1\" >1077</td>\n",
              "    </tr>\n",
              "    <tr>\n",
              "      <th id=\"T_2f277_level0_row9\" class=\"row_heading level0 row9\" >9</th>\n",
              "      <td id=\"T_2f277_row9_col0\" class=\"data row9 col0\" >best</td>\n",
              "      <td id=\"T_2f277_row9_col1\" class=\"data row9 col1\" >1074</td>\n",
              "    </tr>\n",
              "    <tr>\n",
              "      <th id=\"T_2f277_level0_row10\" class=\"row_heading level0 row10\" >10</th>\n",
              "      <td id=\"T_2f277_row10_col0\" class=\"data row10 col0\" >love</td>\n",
              "      <td id=\"T_2f277_row10_col1\" class=\"data row10 col1\" >955</td>\n",
              "    </tr>\n",
              "    <tr>\n",
              "      <th id=\"T_2f277_level0_row11\" class=\"row_heading level0 row11\" >11</th>\n",
              "      <td id=\"T_2f277_row11_col0\" class=\"data row11 col0\" >restaurant</td>\n",
              "      <td id=\"T_2f277_row11_col1\" class=\"data row11 col1\" >901</td>\n",
              "    </tr>\n",
              "    <tr>\n",
              "      <th id=\"T_2f277_level0_row12\" class=\"row_heading level0 row12\" >12</th>\n",
              "      <td id=\"T_2f277_row12_col0\" class=\"data row12 col0\" >nice</td>\n",
              "      <td id=\"T_2f277_row12_col1\" class=\"data row12 col1\" >884</td>\n",
              "    </tr>\n",
              "    <tr>\n",
              "      <th id=\"T_2f277_level0_row13\" class=\"row_heading level0 row13\" >13</th>\n",
              "      <td id=\"T_2f277_row13_col0\" class=\"data row13 col0\" >chicken</td>\n",
              "      <td id=\"T_2f277_row13_col1\" class=\"data row13 col1\" >872</td>\n",
              "    </tr>\n",
              "    <tr>\n",
              "      <th id=\"T_2f277_level0_row14\" class=\"row_heading level0 row14\" >14</th>\n",
              "      <td id=\"T_2f277_row14_col0\" class=\"data row14 col0\" >menu</td>\n",
              "      <td id=\"T_2f277_row14_col1\" class=\"data row14 col1\" >847</td>\n",
              "    </tr>\n",
              "    <tr>\n",
              "      <th id=\"T_2f277_level0_row15\" class=\"row_heading level0 row15\" >15</th>\n",
              "      <td id=\"T_2f277_row15_col0\" class=\"data row15 col0\" >got</td>\n",
              "      <td id=\"T_2f277_row15_col1\" class=\"data row15 col1\" >792</td>\n",
              "    </tr>\n",
              "    <tr>\n",
              "      <th id=\"T_2f277_level0_row16\" class=\"row_heading level0 row16\" >16</th>\n",
              "      <td id=\"T_2f277_row16_col0\" class=\"data row16 col0\" >try</td>\n",
              "      <td id=\"T_2f277_row16_col1\" class=\"data row16 col1\" >781</td>\n",
              "    </tr>\n",
              "    <tr>\n",
              "      <th id=\"T_2f277_level0_row17\" class=\"row_heading level0 row17\" >17</th>\n",
              "      <td id=\"T_2f277_row17_col0\" class=\"data row17 col0\" >friendly</td>\n",
              "      <td id=\"T_2f277_row17_col1\" class=\"data row17 col1\" >763</td>\n",
              "    </tr>\n",
              "    <tr>\n",
              "      <th id=\"T_2f277_level0_row18\" class=\"row_heading level0 row18\" >18</th>\n",
              "      <td id=\"T_2f277_row18_col0\" class=\"data row18 col0\" >ordered</td>\n",
              "      <td id=\"T_2f277_row18_col1\" class=\"data row18 col1\" >761</td>\n",
              "    </tr>\n",
              "    <tr>\n",
              "      <th id=\"T_2f277_level0_row19\" class=\"row_heading level0 row19\" >19</th>\n",
              "      <td id=\"T_2f277_row19_col0\" class=\"data row19 col0\" >definitely</td>\n",
              "      <td id=\"T_2f277_row19_col1\" class=\"data row19 col1\" >750</td>\n",
              "    </tr>\n",
              "  </tbody>\n",
              "</table>\n"
            ]
          },
          "metadata": {},
          "execution_count": 36
        }
      ]
    },
    {
      "cell_type": "markdown",
      "source": [
        "#### **Comment**: The **co-occurence** of **words** that **show positive sentiments** such as **'great', 'delicious, 'best', 'love', 'friendly'** with **words** like **'food', 'service', 'place', 'time'** enlight us about what are the **most important things for a customer to have a positive review about a restaurant** (even the fact that the word 'chicken' appears so many times seems to be an indication that chicken it is one of the favourite foods)."
      ],
      "metadata": {
        "id": "jALIqPHnxS4W"
      }
    },
    {
      "cell_type": "markdown",
      "source": [
        "- **Most common words** in **negative reviews**"
      ],
      "metadata": {
        "id": "Qqhm29ojxkRq"
      }
    },
    {
      "cell_type": "code",
      "source": [
        "top = Counter([item for sublist in Negative_sent['lexicon_reviews'] for item in sublist])\n",
        "common_negative = pd.DataFrame(top.most_common(20))\n",
        "common_negative.columns = ['Most Common Words','Count']\n",
        "common_negative.style.background_gradient(cmap='Blues')"
      ],
      "metadata": {
        "colab": {
          "base_uri": "https://localhost:8080/",
          "height": 676
        },
        "id": "4_YmuX8Awrai",
        "outputId": "9dd28f35-bbbf-46a2-c8d0-7820cb491523"
      },
      "execution_count": null,
      "outputs": [
        {
          "output_type": "execute_result",
          "data": {
            "text/plain": [
              "<pandas.io.formats.style.Styler at 0x7fe06bf9c910>"
            ],
            "text/html": [
              "<style type=\"text/css\">\n",
              "#T_4bb95_row0_col1 {\n",
              "  background-color: #08306b;\n",
              "  color: #f1f1f1;\n",
              "}\n",
              "#T_4bb95_row1_col1 {\n",
              "  background-color: #74b3d8;\n",
              "  color: #000000;\n",
              "}\n",
              "#T_4bb95_row2_col1 {\n",
              "  background-color: #8cc0dd;\n",
              "  color: #000000;\n",
              "}\n",
              "#T_4bb95_row3_col1 {\n",
              "  background-color: #92c4de;\n",
              "  color: #000000;\n",
              "}\n",
              "#T_4bb95_row4_col1 {\n",
              "  background-color: #9ac8e0;\n",
              "  color: #000000;\n",
              "}\n",
              "#T_4bb95_row5_col1 {\n",
              "  background-color: #a9cfe5;\n",
              "  color: #000000;\n",
              "}\n",
              "#T_4bb95_row6_col1 {\n",
              "  background-color: #c4daee;\n",
              "  color: #000000;\n",
              "}\n",
              "#T_4bb95_row7_col1 {\n",
              "  background-color: #ccdff1;\n",
              "  color: #000000;\n",
              "}\n",
              "#T_4bb95_row8_col1 {\n",
              "  background-color: #d9e7f5;\n",
              "  color: #000000;\n",
              "}\n",
              "#T_4bb95_row9_col1 {\n",
              "  background-color: #e8f1fa;\n",
              "  color: #000000;\n",
              "}\n",
              "#T_4bb95_row10_col1 {\n",
              "  background-color: #e9f2fa;\n",
              "  color: #000000;\n",
              "}\n",
              "#T_4bb95_row11_col1, #T_4bb95_row12_col1 {\n",
              "  background-color: #ecf4fb;\n",
              "  color: #000000;\n",
              "}\n",
              "#T_4bb95_row13_col1 {\n",
              "  background-color: #eef5fc;\n",
              "  color: #000000;\n",
              "}\n",
              "#T_4bb95_row14_col1 {\n",
              "  background-color: #f1f7fd;\n",
              "  color: #000000;\n",
              "}\n",
              "#T_4bb95_row15_col1 {\n",
              "  background-color: #f2f7fd;\n",
              "  color: #000000;\n",
              "}\n",
              "#T_4bb95_row16_col1 {\n",
              "  background-color: #f2f8fd;\n",
              "  color: #000000;\n",
              "}\n",
              "#T_4bb95_row17_col1 {\n",
              "  background-color: #f4f9fe;\n",
              "  color: #000000;\n",
              "}\n",
              "#T_4bb95_row18_col1, #T_4bb95_row19_col1 {\n",
              "  background-color: #f7fbff;\n",
              "  color: #000000;\n",
              "}\n",
              "</style>\n",
              "<table id=\"T_4bb95_\" class=\"dataframe\">\n",
              "  <thead>\n",
              "    <tr>\n",
              "      <th class=\"blank level0\" >&nbsp;</th>\n",
              "      <th class=\"col_heading level0 col0\" >Most Common Words</th>\n",
              "      <th class=\"col_heading level0 col1\" >Count</th>\n",
              "    </tr>\n",
              "  </thead>\n",
              "  <tbody>\n",
              "    <tr>\n",
              "      <th id=\"T_4bb95_level0_row0\" class=\"row_heading level0 row0\" >0</th>\n",
              "      <td id=\"T_4bb95_row0_col0\" class=\"data row0 col0\" >food</td>\n",
              "      <td id=\"T_4bb95_row0_col1\" class=\"data row0 col1\" >1228</td>\n",
              "    </tr>\n",
              "    <tr>\n",
              "      <th id=\"T_4bb95_level0_row1\" class=\"row_heading level0 row1\" >1</th>\n",
              "      <td id=\"T_4bb95_row1_col0\" class=\"data row1 col0\" >place</td>\n",
              "      <td id=\"T_4bb95_row1_col1\" class=\"data row1 col1\" >735</td>\n",
              "    </tr>\n",
              "    <tr>\n",
              "      <th id=\"T_4bb95_level0_row2\" class=\"row_heading level0 row2\" >2</th>\n",
              "      <td id=\"T_4bb95_row2_col0\" class=\"data row2 col0\" >service</td>\n",
              "      <td id=\"T_4bb95_row2_col1\" class=\"data row2 col1\" >680</td>\n",
              "    </tr>\n",
              "    <tr>\n",
              "      <th id=\"T_4bb95_level0_row3\" class=\"row_heading level0 row3\" >3</th>\n",
              "      <td id=\"T_4bb95_row3_col0\" class=\"data row3 col0\" >good</td>\n",
              "      <td id=\"T_4bb95_row3_col1\" class=\"data row3 col1\" >666</td>\n",
              "    </tr>\n",
              "    <tr>\n",
              "      <th id=\"T_4bb95_level0_row4\" class=\"row_heading level0 row4\" >4</th>\n",
              "      <td id=\"T_4bb95_row4_col0\" class=\"data row4 col0\" >like</td>\n",
              "      <td id=\"T_4bb95_row4_col1\" class=\"data row4 col1\" >647</td>\n",
              "    </tr>\n",
              "    <tr>\n",
              "      <th id=\"T_4bb95_level0_row5\" class=\"row_heading level0 row5\" >5</th>\n",
              "      <td id=\"T_4bb95_row5_col0\" class=\"data row5 col0\" >no</td>\n",
              "      <td id=\"T_4bb95_row5_col1\" class=\"data row5 col1\" >606</td>\n",
              "    </tr>\n",
              "    <tr>\n",
              "      <th id=\"T_4bb95_level0_row6\" class=\"row_heading level0 row6\" >6</th>\n",
              "      <td id=\"T_4bb95_row6_col0\" class=\"data row6 col0\" >time</td>\n",
              "      <td id=\"T_4bb95_row6_col1\" class=\"data row6 col1\" >526</td>\n",
              "    </tr>\n",
              "    <tr>\n",
              "      <th id=\"T_4bb95_level0_row7\" class=\"row_heading level0 row7\" >7</th>\n",
              "      <td id=\"T_4bb95_row7_col0\" class=\"data row7 col0\" >order</td>\n",
              "      <td id=\"T_4bb95_row7_col1\" class=\"data row7 col1\" >492</td>\n",
              "    </tr>\n",
              "    <tr>\n",
              "      <th id=\"T_4bb95_level0_row8\" class=\"row_heading level0 row8\" >8</th>\n",
              "      <td id=\"T_4bb95_row8_col0\" class=\"data row8 col0\" >ordered</td>\n",
              "      <td id=\"T_4bb95_row8_col1\" class=\"data row8 col1\" >427</td>\n",
              "    </tr>\n",
              "    <tr>\n",
              "      <th id=\"T_4bb95_level0_row9\" class=\"row_heading level0 row9\" >9</th>\n",
              "      <td id=\"T_4bb95_row9_col0\" class=\"data row9 col0\" >came</td>\n",
              "      <td id=\"T_4bb95_row9_col1\" class=\"data row9 col1\" >354</td>\n",
              "    </tr>\n",
              "    <tr>\n",
              "      <th id=\"T_4bb95_level0_row10\" class=\"row_heading level0 row10\" >10</th>\n",
              "      <td id=\"T_4bb95_row10_col0\" class=\"data row10 col0\" >got</td>\n",
              "      <td id=\"T_4bb95_row10_col1\" class=\"data row10 col1\" >350</td>\n",
              "    </tr>\n",
              "    <tr>\n",
              "      <th id=\"T_4bb95_level0_row11\" class=\"row_heading level0 row11\" >11</th>\n",
              "      <td id=\"T_4bb95_row11_col0\" class=\"data row11 col0\" >don</td>\n",
              "      <td id=\"T_4bb95_row11_col1\" class=\"data row11 col1\" >337</td>\n",
              "    </tr>\n",
              "    <tr>\n",
              "      <th id=\"T_4bb95_level0_row12\" class=\"row_heading level0 row12\" >12</th>\n",
              "      <td id=\"T_4bb95_row12_col0\" class=\"data row12 col0\" >restaurant</td>\n",
              "      <td id=\"T_4bb95_row12_col1\" class=\"data row12 col1\" >336</td>\n",
              "    </tr>\n",
              "    <tr>\n",
              "      <th id=\"T_4bb95_level0_row13\" class=\"row_heading level0 row13\" >13</th>\n",
              "      <td id=\"T_4bb95_row13_col0\" class=\"data row13 col0\" >minutes</td>\n",
              "      <td id=\"T_4bb95_row13_col1\" class=\"data row13 col1\" >326</td>\n",
              "    </tr>\n",
              "    <tr>\n",
              "      <th id=\"T_4bb95_level0_row14\" class=\"row_heading level0 row14\" >14</th>\n",
              "      <td id=\"T_4bb95_row14_col0\" class=\"data row14 col0\" >didn</td>\n",
              "      <td id=\"T_4bb95_row14_col1\" class=\"data row14 col1\" >316</td>\n",
              "    </tr>\n",
              "    <tr>\n",
              "      <th id=\"T_4bb95_level0_row15\" class=\"row_heading level0 row15\" >15</th>\n",
              "      <td id=\"T_4bb95_row15_col0\" class=\"data row15 col0\" >table</td>\n",
              "      <td id=\"T_4bb95_row15_col1\" class=\"data row15 col1\" >311</td>\n",
              "    </tr>\n",
              "    <tr>\n",
              "      <th id=\"T_4bb95_level0_row16\" class=\"row_heading level0 row16\" >16</th>\n",
              "      <td id=\"T_4bb95_row16_col0\" class=\"data row16 col0\" >went</td>\n",
              "      <td id=\"T_4bb95_row16_col1\" class=\"data row16 col1\" >306</td>\n",
              "    </tr>\n",
              "    <tr>\n",
              "      <th id=\"T_4bb95_level0_row17\" class=\"row_heading level0 row17\" >17</th>\n",
              "      <td id=\"T_4bb95_row17_col0\" class=\"data row17 col0\" >chicken</td>\n",
              "      <td id=\"T_4bb95_row17_col1\" class=\"data row17 col1\" >298</td>\n",
              "    </tr>\n",
              "    <tr>\n",
              "      <th id=\"T_4bb95_level0_row18\" class=\"row_heading level0 row18\" >18</th>\n",
              "      <td id=\"T_4bb95_row18_col0\" class=\"data row18 col0\" >people</td>\n",
              "      <td id=\"T_4bb95_row18_col1\" class=\"data row18 col1\" >285</td>\n",
              "    </tr>\n",
              "    <tr>\n",
              "      <th id=\"T_4bb95_level0_row19\" class=\"row_heading level0 row19\" >19</th>\n",
              "      <td id=\"T_4bb95_row19_col0\" class=\"data row19 col0\" >asked</td>\n",
              "      <td id=\"T_4bb95_row19_col1\" class=\"data row19 col1\" >283</td>\n",
              "    </tr>\n",
              "  </tbody>\n",
              "</table>\n"
            ]
          },
          "metadata": {},
          "execution_count": 37
        }
      ]
    },
    {
      "cell_type": "markdown",
      "source": [
        "#### **Comment**: **negations**, such as, **'no', didn't** and **don't, show up many times** in the **negative reviews**. This **means** that the **food, service** and **place** (these three words are among the top 3 most common words) **are not what customers would like them to be**.<br>"
      ],
      "metadata": {
        "id": "zWSG8_ch96Fc"
      }
    },
    {
      "cell_type": "markdown",
      "source": [
        "##### **UDF for plotting the heatmap** of **the confusion matrices**"
      ],
      "metadata": {
        "id": "-8r5Lk_ayDyT"
      }
    },
    {
      "cell_type": "code",
      "source": [
        "def evaluate(y_test, predictions):\n",
        "    cf_matrix = confusion_matrix(y_test, predictions)\n",
        "    sns.set(font_scale=1.2)\n",
        "    sns.heatmap(cf_matrix, annot = True, fmt = 'd',cmap=\"Blues\")\n",
        "    plt.title('Heatmap of confusion matrix', fontsize=16)\n",
        "    plt.ylabel('True label', fontsize=14)\n",
        "    plt.xlabel('Predicted label', fontsize=14)  "
      ],
      "metadata": {
        "id": "tGo_tUPdwIyq"
      },
      "execution_count": null,
      "outputs": []
    },
    {
      "cell_type": "markdown",
      "source": [
        "####  To **predict** the **sentiment** of each **cleaned review** we will **use** the **polarity scores**:"
      ],
      "metadata": {
        "id": "KZIa7BRey7De"
      }
    },
    {
      "cell_type": "code",
      "source": [
        "df_final['blob_polarity'] = np.where(df_final['polarity']>0, 1, 0)\n",
        "target_names = ['negative', 'positive']\n",
        "print(classification_report(df_final['sentiment'], \n",
        "                            df_final['blob_polarity'],\n",
        "                            target_names=target_names,\n",
        "                            digits = 3))"
      ],
      "metadata": {
        "colab": {
          "base_uri": "https://localhost:8080/"
        },
        "id": "z_aOlcsOyNRj",
        "outputId": "e0bddb4d-725a-4e89-80ad-4e81227c4b74"
      },
      "execution_count": null,
      "outputs": [
        {
          "output_type": "stream",
          "name": "stdout",
          "text": [
            "              precision    recall  f1-score   support\n",
            "\n",
            "    negative      0.837     0.450     0.586      1348\n",
            "    positive      0.859     0.975     0.913      4643\n",
            "\n",
            "    accuracy                          0.857      5991\n",
            "   macro avg      0.848     0.712     0.749      5991\n",
            "weighted avg      0.854     0.857     0.840      5991\n",
            "\n"
          ]
        }
      ]
    },
    {
      "cell_type": "markdown",
      "source": [
        "#### **Comment**: The **performance on positive and negative sentiment** of the **'cleaned reviews' looks different**: we have **much higher recall and high precision** for **positive reviews** when **compared to negative reviews**."
      ],
      "metadata": {
        "id": "qdOTkl1jzhZL"
      }
    },
    {
      "cell_type": "markdown",
      "source": [
        "#### **Heatmap** of **confusion matrix**"
      ],
      "metadata": {
        "id": "Mr-D46hlzz6j"
      }
    },
    {
      "cell_type": "code",
      "source": [
        "evaluate(df_final['sentiment'], df_final['blob_polarity'])"
      ],
      "metadata": {
        "colab": {
          "base_uri": "https://localhost:8080/",
          "height": 307
        },
        "id": "L4U4rUJByNWC",
        "outputId": "97194c1a-1884-4c90-bd37-5db157c68b1d"
      },
      "execution_count": null,
      "outputs": [
        {
          "output_type": "display_data",
          "data": {
            "text/plain": [
              "<Figure size 432x288 with 2 Axes>"
            ],
            "image/png": "[encoded data removed]"
          },
          "metadata": {}
        }
      ]
    },
    {
      "cell_type": "markdown",
      "source": [
        "#### **Comment**: the **predictions are biased towards positive sentiment**, just below **88%** of our **predictions are positive**.\n",
        "<br>"
      ],
      "metadata": {
        "id": "8cno9b6p0ZBd"
      }
    },
    {
      "cell_type": "markdown",
      "source": [
        "### **3 - Sentiment analysis with VADER**\n",
        "- **VADER** produces **four sentiment measurements**: \n",
        "    - **pos, neu** and **neg** scores **add up to 1** and show the proportion of text/content that falls into each of those three categories.\n",
        "    - **Compound**: **aggregated score normalized** to be **between -1 and 1**."
      ],
      "metadata": {
        "id": "tO9ghqH81WQV"
      }
    },
    {
      "cell_type": "code",
      "source": [
        "sid = SentimentIntensityAnalyzer()"
      ],
      "metadata": {
        "id": "95ufot8yyNaU"
      },
      "execution_count": null,
      "outputs": []
    },
    {
      "cell_type": "code",
      "source": [
        "columns_to_drop = ['polarity', 'blob_polarity']\n",
        "df_final.drop(columns_to_drop, axis=1, inplace=True)"
      ],
      "metadata": {
        "id": "yFp2zqIE4W6h"
      },
      "execution_count": null,
      "outputs": []
    },
    {
      "cell_type": "code",
      "source": [
        "df_final[['neg', 'neu', 'pos', 'compound']] = df_final['cleaned_reviews'].apply(sid.polarity_scores).apply(pd.Series)\n",
        "df_final.head()"
      ],
      "metadata": {
        "colab": {
          "base_uri": "https://localhost:8080/",
          "height": 206
        },
        "id": "Wsp2QI-W1mfe",
        "outputId": "ef029c39-2bd5-4b9d-da7e-07d0d34b3655"
      },
      "execution_count": null,
      "outputs": [
        {
          "output_type": "execute_result",
          "data": {
            "text/plain": [
              "   sentiment                                    cleaned_reviews  \\\n",
              "0        1.0  apparently prides osteria rough summer evidenc...   \n",
              "1        0.0  disappointed saw great yelp reviews great ones...   \n",
              "2        1.0  close dining italy ll find new england chef pa...   \n",
              "3        1.0  great food service weeks great time tuesday we...   \n",
              "4        0.0  ve stayed marriott renaissance marriott huge d...   \n",
              "\n",
              "                                     lexicon_reviews    neg    neu    pos  \\\n",
              "0  [apparently, prides, osteria, rough, summer, e...  0.023  0.735  0.242   \n",
              "1  [disappointed, saw, great, yelp, reviews, grea...  0.081  0.685  0.234   \n",
              "2  [close, dining, italy, ll, find, new, england,...  0.000  0.784  0.216   \n",
              "3  [great, food, service, weeks, great, time, tue...  0.000  0.381  0.619   \n",
              "4  [ve, stayed, marriott, renaissance, marriott, ...  0.081  0.587  0.333   \n",
              "\n",
              "   compound  \n",
              "0    0.9879  \n",
              "1    0.9851  \n",
              "2    0.7096  \n",
              "3    0.9393  \n",
              "4    0.8519  "
            ],
            "text/html": [
              "\n",
              "  <div id=\"df-ebb5d4ee-656f-4681-a6bd-cc1d76c18a2e\">\n",
              "    <div class=\"colab-df-container\">\n",
              "      <div>\n",
              "<style scoped>\n",
              "    .dataframe tbody tr th:only-of-type {\n",
              "        vertical-align: middle;\n",
              "    }\n",
              "\n",
              "    .dataframe tbody tr th {\n",
              "        vertical-align: top;\n",
              "    }\n",
              "\n",
              "    .dataframe thead th {\n",
              "        text-align: right;\n",
              "    }\n",
              "</style>\n",
              "<table border=\"1\" class=\"dataframe\">\n",
              "  <thead>\n",
              "    <tr style=\"text-align: right;\">\n",
              "      <th></th>\n",
              "      <th>sentiment</th>\n",
              "      <th>cleaned_reviews</th>\n",
              "      <th>lexicon_reviews</th>\n",
              "      <th>neg</th>\n",
              "      <th>neu</th>\n",
              "      <th>pos</th>\n",
              "      <th>compound</th>\n",
              "    </tr>\n",
              "  </thead>\n",
              "  <tbody>\n",
              "    <tr>\n",
              "      <th>0</th>\n",
              "      <td>1.0</td>\n",
              "      <td>apparently prides osteria rough summer evidenc...</td>\n",
              "      <td>[apparently, prides, osteria, rough, summer, e...</td>\n",
              "      <td>0.023</td>\n",
              "      <td>0.735</td>\n",
              "      <td>0.242</td>\n",
              "      <td>0.9879</td>\n",
              "    </tr>\n",
              "    <tr>\n",
              "      <th>1</th>\n",
              "      <td>0.0</td>\n",
              "      <td>disappointed saw great yelp reviews great ones...</td>\n",
              "      <td>[disappointed, saw, great, yelp, reviews, grea...</td>\n",
              "      <td>0.081</td>\n",
              "      <td>0.685</td>\n",
              "      <td>0.234</td>\n",
              "      <td>0.9851</td>\n",
              "    </tr>\n",
              "    <tr>\n",
              "      <th>2</th>\n",
              "      <td>1.0</td>\n",
              "      <td>close dining italy ll find new england chef pa...</td>\n",
              "      <td>[close, dining, italy, ll, find, new, england,...</td>\n",
              "      <td>0.000</td>\n",
              "      <td>0.784</td>\n",
              "      <td>0.216</td>\n",
              "      <td>0.7096</td>\n",
              "    </tr>\n",
              "    <tr>\n",
              "      <th>3</th>\n",
              "      <td>1.0</td>\n",
              "      <td>great food service weeks great time tuesday we...</td>\n",
              "      <td>[great, food, service, weeks, great, time, tue...</td>\n",
              "      <td>0.000</td>\n",
              "      <td>0.381</td>\n",
              "      <td>0.619</td>\n",
              "      <td>0.9393</td>\n",
              "    </tr>\n",
              "    <tr>\n",
              "      <th>4</th>\n",
              "      <td>0.0</td>\n",
              "      <td>ve stayed marriott renaissance marriott huge d...</td>\n",
              "      <td>[ve, stayed, marriott, renaissance, marriott, ...</td>\n",
              "      <td>0.081</td>\n",
              "      <td>0.587</td>\n",
              "      <td>0.333</td>\n",
              "      <td>0.8519</td>\n",
              "    </tr>\n",
              "  </tbody>\n",
              "</table>\n",
              "</div>\n",
              "      <button class=\"colab-df-convert\" onclick=\"convertToInteractive('df-ebb5d4ee-656f-4681-a6bd-cc1d76c18a2e')\"\n",
              "              title=\"Convert this dataframe to an interactive table.\"\n",
              "              style=\"display:none;\">\n",
              "        \n",
              "  <svg xmlns=\"http://www.w3.org/2000/svg\" height=\"24px\"viewBox=\"0 0 24 24\"\n",
              "       width=\"24px\">\n",
              "    <path d=\"M0 0h24v24H0V0z\" fill=\"none\"/>\n",
              "    <path d=\"M18.56 5.44l.94 2.06.94-2.06 2.06-.94-2.06-.94-.94-2.06-.94 2.06-2.06.94zm-11 1L8.5 8.5l.94-2.06 2.06-.94-2.06-.94L8.5 2.5l-.94 2.06-2.06.94zm10 10l.94 2.06.94-2.06 2.06-.94-2.06-.94-.94-2.06-.94 2.06-2.06.94z\"/><path d=\"M17.41 7.96l-1.37-1.37c-.4-.4-.92-.59-1.43-.59-.52 0-1.04.2-1.43.59L10.3 9.45l-7.72 7.72c-.78.78-.78 2.05 0 2.83L4 21.41c.39.39.9.59 1.41.59.51 0 1.02-.2 1.41-.59l7.78-7.78 2.81-2.81c.8-.78.8-2.07 0-2.86zM5.41 20L4 18.59l7.72-7.72 1.47 1.35L5.41 20z\"/>\n",
              "  </svg>\n",
              "      </button>\n",
              "      \n",
              "  <style>\n",
              "    .colab-df-container {\n",
              "      display:flex;\n",
              "      flex-wrap:wrap;\n",
              "      gap: 12px;\n",
              "    }\n",
              "\n",
              "    .colab-df-convert {\n",
              "      background-color: #E8F0FE;\n",
              "      border: none;\n",
              "      border-radius: 50%;\n",
              "      cursor: pointer;\n",
              "      display: none;\n",
              "      fill: #1967D2;\n",
              "      height: 32px;\n",
              "      padding: 0 0 0 0;\n",
              "      width: 32px;\n",
              "    }\n",
              "\n",
              "    .colab-df-convert:hover {\n",
              "      background-color: #E2EBFA;\n",
              "      box-shadow: 0px 1px 2px rgba(60, 64, 67, 0.3), 0px 1px 3px 1px rgba(60, 64, 67, 0.15);\n",
              "      fill: #174EA6;\n",
              "    }\n",
              "\n",
              "    [theme=dark] .colab-df-convert {\n",
              "      background-color: #3B4455;\n",
              "      fill: #D2E3FC;\n",
              "    }\n",
              "\n",
              "    [theme=dark] .colab-df-convert:hover {\n",
              "      background-color: #434B5C;\n",
              "      box-shadow: 0px 1px 3px 1px rgba(0, 0, 0, 0.15);\n",
              "      filter: drop-shadow(0px 1px 2px rgba(0, 0, 0, 0.3));\n",
              "      fill: #FFFFFF;\n",
              "    }\n",
              "  </style>\n",
              "\n",
              "      <script>\n",
              "        const buttonEl =\n",
              "          document.querySelector('#df-ebb5d4ee-656f-4681-a6bd-cc1d76c18a2e button.colab-df-convert');\n",
              "        buttonEl.style.display =\n",
              "          google.colab.kernel.accessAllowed ? 'block' : 'none';\n",
              "\n",
              "        async function convertToInteractive(key) {\n",
              "          const element = document.querySelector('#df-ebb5d4ee-656f-4681-a6bd-cc1d76c18a2e');\n",
              "          const dataTable =\n",
              "            await google.colab.kernel.invokeFunction('convertToInteractive',\n",
              "                                                     [key], {});\n",
              "          if (!dataTable) return;\n",
              "\n",
              "          const docLinkHtml = 'Like what you see? Visit the ' +\n",
              "            '<a target=\"_blank\" href=https://colab.research.google.com/notebooks/data_table.ipynb>data table notebook</a>'\n",
              "            + ' to learn more about interactive tables.';\n",
              "          element.innerHTML = '';\n",
              "          dataTable['output_type'] = 'display_data';\n",
              "          await google.colab.output.renderOutput(dataTable, element);\n",
              "          const docLink = document.createElement('div');\n",
              "          docLink.innerHTML = docLinkHtml;\n",
              "          element.appendChild(docLink);\n",
              "        }\n",
              "      </script>\n",
              "    </div>\n",
              "  </div>\n",
              "  "
            ]
          },
          "metadata": {},
          "execution_count": 43
        }
      ]
    },
    {
      "cell_type": "markdown",
      "source": [
        "####  To **predict** the **sentiment** of each **cleaned review** we will **use first** the **pos** and **neg scores** and then the **compound score**:"
      ],
      "metadata": {
        "id": "a3QUKAhf7tr6"
      }
    },
    {
      "cell_type": "code",
      "source": [
        "df_final['vader_prediction'] = np.where(df_final['pos']>df_final['neg'], 1, 0)\n",
        "target_names=['negative', 'positive']\n",
        "print(classification_report(df_final['sentiment'], df_final['vader_prediction'], target_names=target_names, digits=3))"
      ],
      "metadata": {
        "colab": {
          "base_uri": "https://localhost:8080/"
        },
        "id": "plgU551I1m7X",
        "outputId": "663aa98b-55a4-49fe-a288-9169eea360c4"
      },
      "execution_count": null,
      "outputs": [
        {
          "output_type": "stream",
          "name": "stdout",
          "text": [
            "              precision    recall  f1-score   support\n",
            "\n",
            "    negative      0.845     0.372     0.517      1348\n",
            "    positive      0.843     0.980     0.907      4643\n",
            "\n",
            "    accuracy                          0.843      5991\n",
            "   macro avg      0.844     0.676     0.712      5991\n",
            "weighted avg      0.844     0.843     0.819      5991\n",
            "\n"
          ]
        }
      ]
    },
    {
      "cell_type": "code",
      "source": [
        "evaluate(df_final['sentiment'], df_final['vader_prediction'])"
      ],
      "metadata": {
        "colab": {
          "base_uri": "https://localhost:8080/",
          "height": 307
        },
        "id": "jyJ5Vc_M7ljB",
        "outputId": "4a199d4a-eec0-4983-b286-6bfb05474892"
      },
      "execution_count": null,
      "outputs": [
        {
          "output_type": "display_data",
          "data": {
            "text/plain": [
              "<Figure size 432x288 with 2 Axes>"
            ],
            "image/png": "[encoded data removed]"
          },
          "metadata": {}
        }
      ]
    },
    {
      "cell_type": "code",
      "source": [
        "df_final['vader_compound_prediction'] = np.where(df_final['compound']>0, 1, 0)\n",
        "print(classification_report(df_final['sentiment'], df_final['vader_compound_prediction'], target_names=target_names, digits=3))"
      ],
      "metadata": {
        "colab": {
          "base_uri": "https://localhost:8080/"
        },
        "id": "k-JfByCf7loA",
        "outputId": "9d4d2306-a1a6-4fd2-bd60-10d0605d963e"
      },
      "execution_count": null,
      "outputs": [
        {
          "output_type": "stream",
          "name": "stdout",
          "text": [
            "              precision    recall  f1-score   support\n",
            "\n",
            "    negative      0.851     0.367     0.513      1348\n",
            "    positive      0.842     0.981     0.906      4643\n",
            "\n",
            "    accuracy                          0.843      5991\n",
            "   macro avg      0.846     0.674     0.710      5991\n",
            "weighted avg      0.844     0.843     0.818      5991\n",
            "\n"
          ]
        }
      ]
    },
    {
      "cell_type": "code",
      "source": [
        "evaluate(df_final['sentiment'], df_final['vader_compound_prediction'])"
      ],
      "metadata": {
        "colab": {
          "base_uri": "https://localhost:8080/",
          "height": 307
        },
        "id": "Za1AGZpcwI2e",
        "outputId": "cf3bdaae-9632-4b32-891a-5e4feaccc141"
      },
      "execution_count": null,
      "outputs": [
        {
          "output_type": "display_data",
          "data": {
            "text/plain": [
              "<Figure size 432x288 with 2 Axes>"
            ],
            "image/png": "[encoded data removed]"
          },
          "metadata": {}
        }
      ]
    },
    {
      "cell_type": "markdown",
      "source": [
        "#### **Comments**: \n",
        "- The **scores for all metrics are very similar using pos and neg scores or using the compound score**. \n",
        "- The **predictions are biased towards positive sentiment**, approximately **90%** of the predictions are **positive**.\n",
        "<br><br>"
      ],
      "metadata": {
        "id": "zSg1WbEXCfOB"
      }
    },
    {
      "cell_type": "markdown",
      "source": [
        "### **4 - Conclusions**:\n",
        "- When **comparing the use** of **TextBlob** and **Vader to predict the sentiment of restaurant reviews from Yelp dataset** one can **draw** the **following conclusions**:\n",
        "    - The **predictions** of **both lexicon-based sentiment analyzers are biased towards positive sentiment**.\n",
        "    - The **scores achieved** for **accuracy** and **F1 scores** (regarding both positive and negative sentiment) **are higher using TextBlob**, which allows us to say that **TextBlob performs better than Vader in the current context**. "
      ],
      "metadata": {
        "id": "aJlT6j2YAYe2"
      }
    }
  ]
}